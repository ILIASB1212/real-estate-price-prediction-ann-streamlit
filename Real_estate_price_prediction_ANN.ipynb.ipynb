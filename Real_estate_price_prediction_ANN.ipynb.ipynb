{
 "cells": [
  {
   "cell_type": "code",
   "execution_count": 1,
   "id": "697c0ca9-b5e6-44f6-93ad-e97acad41b3b",
   "metadata": {},
   "outputs": [],
   "source": [
    "import pandas as pd\n",
    "import numpy as np"
   ]
  },
  {
   "cell_type": "markdown",
   "id": "73acb5fe-deee-4647-93e8-1f3a56a2ff00",
   "metadata": {},
   "source": [
    "#### LOAD THE DATA"
   ]
  },
  {
   "cell_type": "code",
   "execution_count": 2,
   "id": "bc38893c-44ac-4788-92ac-a6fdc27276af",
   "metadata": {
    "scrolled": true
   },
   "outputs": [
    {
     "data": {
      "text/html": [
       "<div>\n",
       "<style scoped>\n",
       "    .dataframe tbody tr th:only-of-type {\n",
       "        vertical-align: middle;\n",
       "    }\n",
       "\n",
       "    .dataframe tbody tr th {\n",
       "        vertical-align: top;\n",
       "    }\n",
       "\n",
       "    .dataframe thead th {\n",
       "        text-align: right;\n",
       "    }\n",
       "</style>\n",
       "<table border=\"1\" class=\"dataframe\">\n",
       "  <thead>\n",
       "    <tr style=\"text-align: right;\">\n",
       "      <th></th>\n",
       "      <th>brokered_by</th>\n",
       "      <th>status</th>\n",
       "      <th>price</th>\n",
       "      <th>bed</th>\n",
       "      <th>bath</th>\n",
       "      <th>acre_lot</th>\n",
       "      <th>street</th>\n",
       "      <th>city</th>\n",
       "      <th>state</th>\n",
       "      <th>zip_code</th>\n",
       "      <th>house_size</th>\n",
       "      <th>prev_sold_date</th>\n",
       "    </tr>\n",
       "  </thead>\n",
       "  <tbody>\n",
       "    <tr>\n",
       "      <th>0</th>\n",
       "      <td>103378.0</td>\n",
       "      <td>for_sale</td>\n",
       "      <td>105000.0</td>\n",
       "      <td>3.0</td>\n",
       "      <td>2.0</td>\n",
       "      <td>0.12</td>\n",
       "      <td>1962661.0</td>\n",
       "      <td>Adjuntas</td>\n",
       "      <td>Puerto Rico</td>\n",
       "      <td>601.0</td>\n",
       "      <td>920.0</td>\n",
       "      <td>NaN</td>\n",
       "    </tr>\n",
       "    <tr>\n",
       "      <th>1</th>\n",
       "      <td>52707.0</td>\n",
       "      <td>for_sale</td>\n",
       "      <td>80000.0</td>\n",
       "      <td>4.0</td>\n",
       "      <td>2.0</td>\n",
       "      <td>0.08</td>\n",
       "      <td>1902874.0</td>\n",
       "      <td>Adjuntas</td>\n",
       "      <td>Puerto Rico</td>\n",
       "      <td>601.0</td>\n",
       "      <td>1527.0</td>\n",
       "      <td>NaN</td>\n",
       "    </tr>\n",
       "    <tr>\n",
       "      <th>2</th>\n",
       "      <td>103379.0</td>\n",
       "      <td>for_sale</td>\n",
       "      <td>67000.0</td>\n",
       "      <td>2.0</td>\n",
       "      <td>1.0</td>\n",
       "      <td>0.15</td>\n",
       "      <td>1404990.0</td>\n",
       "      <td>Juana Diaz</td>\n",
       "      <td>Puerto Rico</td>\n",
       "      <td>795.0</td>\n",
       "      <td>748.0</td>\n",
       "      <td>NaN</td>\n",
       "    </tr>\n",
       "    <tr>\n",
       "      <th>3</th>\n",
       "      <td>31239.0</td>\n",
       "      <td>for_sale</td>\n",
       "      <td>145000.0</td>\n",
       "      <td>4.0</td>\n",
       "      <td>2.0</td>\n",
       "      <td>0.10</td>\n",
       "      <td>1947675.0</td>\n",
       "      <td>Ponce</td>\n",
       "      <td>Puerto Rico</td>\n",
       "      <td>731.0</td>\n",
       "      <td>1800.0</td>\n",
       "      <td>NaN</td>\n",
       "    </tr>\n",
       "    <tr>\n",
       "      <th>4</th>\n",
       "      <td>34632.0</td>\n",
       "      <td>for_sale</td>\n",
       "      <td>65000.0</td>\n",
       "      <td>6.0</td>\n",
       "      <td>2.0</td>\n",
       "      <td>0.05</td>\n",
       "      <td>331151.0</td>\n",
       "      <td>Mayaguez</td>\n",
       "      <td>Puerto Rico</td>\n",
       "      <td>680.0</td>\n",
       "      <td>NaN</td>\n",
       "      <td>NaN</td>\n",
       "    </tr>\n",
       "  </tbody>\n",
       "</table>\n",
       "</div>"
      ],
      "text/plain": [
       "   brokered_by    status     price  bed  bath  acre_lot     street  \\\n",
       "0     103378.0  for_sale  105000.0  3.0   2.0      0.12  1962661.0   \n",
       "1      52707.0  for_sale   80000.0  4.0   2.0      0.08  1902874.0   \n",
       "2     103379.0  for_sale   67000.0  2.0   1.0      0.15  1404990.0   \n",
       "3      31239.0  for_sale  145000.0  4.0   2.0      0.10  1947675.0   \n",
       "4      34632.0  for_sale   65000.0  6.0   2.0      0.05   331151.0   \n",
       "\n",
       "         city        state  zip_code  house_size prev_sold_date  \n",
       "0    Adjuntas  Puerto Rico     601.0       920.0            NaN  \n",
       "1    Adjuntas  Puerto Rico     601.0      1527.0            NaN  \n",
       "2  Juana Diaz  Puerto Rico     795.0       748.0            NaN  \n",
       "3       Ponce  Puerto Rico     731.0      1800.0            NaN  \n",
       "4    Mayaguez  Puerto Rico     680.0         NaN            NaN  "
      ]
     },
     "execution_count": 2,
     "metadata": {},
     "output_type": "execute_result"
    }
   ],
   "source": [
    "data=pd.read_csv(\"realtor-data.zip.csv\")\n",
    "data.head()"
   ]
  },
  {
   "cell_type": "markdown",
   "id": "507ba28f-2e11-4423-850c-074a61ad0da3",
   "metadata": {},
   "source": [
    "### PREPROSESSING"
   ]
  },
  {
   "cell_type": "code",
   "execution_count": 3,
   "id": "646ac6c8-71a8-4f7c-a6fe-600095c6f326",
   "metadata": {},
   "outputs": [],
   "source": [
    "df=data.drop([\"brokered_by\",\"status\",\"prev_sold_date\",\"zip_code\"],axis=1)"
   ]
  },
  {
   "cell_type": "code",
   "execution_count": 4,
   "id": "2ef858b0-f7e9-4db8-8a1b-931a2c9bc4c0",
   "metadata": {
    "scrolled": true
   },
   "outputs": [
    {
     "name": "stdout",
     "output_type": "stream",
     "text": [
      "<class 'pandas.core.frame.DataFrame'>\n",
      "RangeIndex: 2226382 entries, 0 to 2226381\n",
      "Data columns (total 8 columns):\n",
      " #   Column      Dtype  \n",
      "---  ------      -----  \n",
      " 0   price       float64\n",
      " 1   bed         float64\n",
      " 2   bath        float64\n",
      " 3   acre_lot    float64\n",
      " 4   street      float64\n",
      " 5   city        object \n",
      " 6   state       object \n",
      " 7   house_size  float64\n",
      "dtypes: float64(6), object(2)\n",
      "memory usage: 135.9+ MB\n"
     ]
    }
   ],
   "source": [
    "df.info()"
   ]
  },
  {
   "cell_type": "code",
   "execution_count": 5,
   "id": "b65eaada-da06-48e3-bc8a-604a252b1b23",
   "metadata": {
    "scrolled": true
   },
   "outputs": [
    {
     "data": {
      "text/plain": [
       "price           1541\n",
       "bed           481317\n",
       "bath          511771\n",
       "acre_lot      325589\n",
       "street         10866\n",
       "city            1407\n",
       "state              8\n",
       "house_size    568484\n",
       "dtype: int64"
      ]
     },
     "execution_count": 5,
     "metadata": {},
     "output_type": "execute_result"
    }
   ],
   "source": [
    "df.isna().sum()"
   ]
  },
  {
   "cell_type": "code",
   "execution_count": 6,
   "id": "4ae0d556-e985-42d4-bfe1-f04034240397",
   "metadata": {},
   "outputs": [
    {
     "data": {
      "text/html": [
       "<div>\n",
       "<style scoped>\n",
       "    .dataframe tbody tr th:only-of-type {\n",
       "        vertical-align: middle;\n",
       "    }\n",
       "\n",
       "    .dataframe tbody tr th {\n",
       "        vertical-align: top;\n",
       "    }\n",
       "\n",
       "    .dataframe thead th {\n",
       "        text-align: right;\n",
       "    }\n",
       "</style>\n",
       "<table border=\"1\" class=\"dataframe\">\n",
       "  <thead>\n",
       "    <tr style=\"text-align: right;\">\n",
       "      <th></th>\n",
       "      <th>price</th>\n",
       "      <th>bed</th>\n",
       "      <th>bath</th>\n",
       "      <th>acre_lot</th>\n",
       "      <th>street</th>\n",
       "      <th>city</th>\n",
       "      <th>state</th>\n",
       "      <th>house_size</th>\n",
       "    </tr>\n",
       "  </thead>\n",
       "  <tbody>\n",
       "    <tr>\n",
       "      <th>0</th>\n",
       "      <td>105000.0</td>\n",
       "      <td>3.0</td>\n",
       "      <td>2.0</td>\n",
       "      <td>0.12</td>\n",
       "      <td>1962661.0</td>\n",
       "      <td>Adjuntas</td>\n",
       "      <td>Puerto Rico</td>\n",
       "      <td>920.0</td>\n",
       "    </tr>\n",
       "    <tr>\n",
       "      <th>1</th>\n",
       "      <td>80000.0</td>\n",
       "      <td>4.0</td>\n",
       "      <td>2.0</td>\n",
       "      <td>0.08</td>\n",
       "      <td>1902874.0</td>\n",
       "      <td>Adjuntas</td>\n",
       "      <td>Puerto Rico</td>\n",
       "      <td>1527.0</td>\n",
       "    </tr>\n",
       "    <tr>\n",
       "      <th>2</th>\n",
       "      <td>67000.0</td>\n",
       "      <td>2.0</td>\n",
       "      <td>1.0</td>\n",
       "      <td>0.15</td>\n",
       "      <td>1404990.0</td>\n",
       "      <td>Juana Diaz</td>\n",
       "      <td>Puerto Rico</td>\n",
       "      <td>748.0</td>\n",
       "    </tr>\n",
       "    <tr>\n",
       "      <th>3</th>\n",
       "      <td>145000.0</td>\n",
       "      <td>4.0</td>\n",
       "      <td>2.0</td>\n",
       "      <td>0.10</td>\n",
       "      <td>1947675.0</td>\n",
       "      <td>Ponce</td>\n",
       "      <td>Puerto Rico</td>\n",
       "      <td>1800.0</td>\n",
       "    </tr>\n",
       "    <tr>\n",
       "      <th>4</th>\n",
       "      <td>65000.0</td>\n",
       "      <td>6.0</td>\n",
       "      <td>2.0</td>\n",
       "      <td>0.05</td>\n",
       "      <td>331151.0</td>\n",
       "      <td>Mayaguez</td>\n",
       "      <td>Puerto Rico</td>\n",
       "      <td>NaN</td>\n",
       "    </tr>\n",
       "    <tr>\n",
       "      <th>...</th>\n",
       "      <td>...</td>\n",
       "      <td>...</td>\n",
       "      <td>...</td>\n",
       "      <td>...</td>\n",
       "      <td>...</td>\n",
       "      <td>...</td>\n",
       "      <td>...</td>\n",
       "      <td>...</td>\n",
       "    </tr>\n",
       "    <tr>\n",
       "      <th>2226377</th>\n",
       "      <td>359900.0</td>\n",
       "      <td>4.0</td>\n",
       "      <td>2.0</td>\n",
       "      <td>0.33</td>\n",
       "      <td>353094.0</td>\n",
       "      <td>Richland</td>\n",
       "      <td>Washington</td>\n",
       "      <td>3600.0</td>\n",
       "    </tr>\n",
       "    <tr>\n",
       "      <th>2226378</th>\n",
       "      <td>350000.0</td>\n",
       "      <td>3.0</td>\n",
       "      <td>2.0</td>\n",
       "      <td>0.10</td>\n",
       "      <td>1062149.0</td>\n",
       "      <td>Richland</td>\n",
       "      <td>Washington</td>\n",
       "      <td>1616.0</td>\n",
       "    </tr>\n",
       "    <tr>\n",
       "      <th>2226379</th>\n",
       "      <td>440000.0</td>\n",
       "      <td>6.0</td>\n",
       "      <td>3.0</td>\n",
       "      <td>0.50</td>\n",
       "      <td>405677.0</td>\n",
       "      <td>Richland</td>\n",
       "      <td>Washington</td>\n",
       "      <td>3200.0</td>\n",
       "    </tr>\n",
       "    <tr>\n",
       "      <th>2226380</th>\n",
       "      <td>179900.0</td>\n",
       "      <td>2.0</td>\n",
       "      <td>1.0</td>\n",
       "      <td>0.09</td>\n",
       "      <td>761379.0</td>\n",
       "      <td>Richland</td>\n",
       "      <td>Washington</td>\n",
       "      <td>933.0</td>\n",
       "    </tr>\n",
       "    <tr>\n",
       "      <th>2226381</th>\n",
       "      <td>580000.0</td>\n",
       "      <td>5.0</td>\n",
       "      <td>3.0</td>\n",
       "      <td>0.31</td>\n",
       "      <td>307704.0</td>\n",
       "      <td>Richland</td>\n",
       "      <td>Washington</td>\n",
       "      <td>3615.0</td>\n",
       "    </tr>\n",
       "  </tbody>\n",
       "</table>\n",
       "<p>2226382 rows × 8 columns</p>\n",
       "</div>"
      ],
      "text/plain": [
       "            price  bed  bath  acre_lot     street        city        state  \\\n",
       "0        105000.0  3.0   2.0      0.12  1962661.0    Adjuntas  Puerto Rico   \n",
       "1         80000.0  4.0   2.0      0.08  1902874.0    Adjuntas  Puerto Rico   \n",
       "2         67000.0  2.0   1.0      0.15  1404990.0  Juana Diaz  Puerto Rico   \n",
       "3        145000.0  4.0   2.0      0.10  1947675.0       Ponce  Puerto Rico   \n",
       "4         65000.0  6.0   2.0      0.05   331151.0    Mayaguez  Puerto Rico   \n",
       "...           ...  ...   ...       ...        ...         ...          ...   \n",
       "2226377  359900.0  4.0   2.0      0.33   353094.0    Richland   Washington   \n",
       "2226378  350000.0  3.0   2.0      0.10  1062149.0    Richland   Washington   \n",
       "2226379  440000.0  6.0   3.0      0.50   405677.0    Richland   Washington   \n",
       "2226380  179900.0  2.0   1.0      0.09   761379.0    Richland   Washington   \n",
       "2226381  580000.0  5.0   3.0      0.31   307704.0    Richland   Washington   \n",
       "\n",
       "         house_size  \n",
       "0             920.0  \n",
       "1            1527.0  \n",
       "2             748.0  \n",
       "3            1800.0  \n",
       "4               NaN  \n",
       "...             ...  \n",
       "2226377      3600.0  \n",
       "2226378      1616.0  \n",
       "2226379      3200.0  \n",
       "2226380       933.0  \n",
       "2226381      3615.0  \n",
       "\n",
       "[2226382 rows x 8 columns]"
      ]
     },
     "execution_count": 6,
     "metadata": {},
     "output_type": "execute_result"
    }
   ],
   "source": [
    "df"
   ]
  },
  {
   "cell_type": "code",
   "execution_count": 7,
   "id": "620c4905-e070-4dd4-b4f6-4d4c9d6e7c6f",
   "metadata": {},
   "outputs": [],
   "source": [
    "categoric=df.select_dtypes(include=\"O\")\n",
    "numeric=df.select_dtypes(exclude=\"O\")"
   ]
  },
  {
   "cell_type": "code",
   "execution_count": 8,
   "id": "c4af60bf-3b82-4b6e-a215-79befe17d971",
   "metadata": {},
   "outputs": [
    {
     "data": {
      "text/plain": [
       "Index(['price', 'bed', 'bath', 'acre_lot', 'street', 'house_size'], dtype='object')"
      ]
     },
     "execution_count": 8,
     "metadata": {},
     "output_type": "execute_result"
    }
   ],
   "source": [
    "numeric.columns"
   ]
  },
  {
   "cell_type": "markdown",
   "id": "5479392e-5d94-4145-bad9-d5270bdf679b",
   "metadata": {},
   "source": [
    "#### FILLING NAN VALUES"
   ]
  },
  {
   "cell_type": "code",
   "execution_count": 9,
   "id": "e12ca880-bed0-4d26-925b-9b50d3a9db62",
   "metadata": {},
   "outputs": [],
   "source": [
    "from sklearn.impute import SimpleImputer"
   ]
  },
  {
   "cell_type": "code",
   "execution_count": 10,
   "id": "f6f6b685-90f5-4135-ab9a-c91e47ea2cb2",
   "metadata": {},
   "outputs": [],
   "source": [
    "numeric_impute=SimpleImputer(strategy='mean')"
   ]
  },
  {
   "cell_type": "code",
   "execution_count": 11,
   "id": "8b01caa4-c277-4f6b-84d6-52a790b8af4b",
   "metadata": {},
   "outputs": [],
   "source": [
    "numeric[numeric.columns]=numeric_impute.fit_transform(numeric[numeric.columns])"
   ]
  },
  {
   "cell_type": "code",
   "execution_count": 12,
   "id": "702446a4-a763-4874-8fe6-5051aa1041ef",
   "metadata": {},
   "outputs": [],
   "source": [
    "categoric_impute=SimpleImputer(strategy='most_frequent')"
   ]
  },
  {
   "cell_type": "code",
   "execution_count": 13,
   "id": "d30ba143-2037-4d29-b4e6-e62c90226b25",
   "metadata": {},
   "outputs": [],
   "source": [
    "categoric[categoric.columns]=categoric_impute.fit_transform(categoric[categoric.columns])"
   ]
  },
  {
   "cell_type": "code",
   "execution_count": 14,
   "id": "932e21ec-6c4b-492b-872e-3967502dfb4b",
   "metadata": {},
   "outputs": [
    {
     "data": {
      "text/plain": [
       "price         0\n",
       "bed           0\n",
       "bath          0\n",
       "acre_lot      0\n",
       "street        0\n",
       "house_size    0\n",
       "dtype: int64"
      ]
     },
     "execution_count": 14,
     "metadata": {},
     "output_type": "execute_result"
    }
   ],
   "source": [
    "numeric.isna().sum()"
   ]
  },
  {
   "cell_type": "code",
   "execution_count": 15,
   "id": "66ff18d5-4496-42fa-8dad-e0436ce67de5",
   "metadata": {},
   "outputs": [],
   "source": [
    "df=numeric.join(categoric)"
   ]
  },
  {
   "cell_type": "code",
   "execution_count": 16,
   "id": "205d6846-ac2e-4b7f-94d0-a037479e4a93",
   "metadata": {
    "scrolled": true
   },
   "outputs": [
    {
     "data": {
      "text/plain": [
       "price         0\n",
       "bed           0\n",
       "bath          0\n",
       "acre_lot      0\n",
       "street        0\n",
       "house_size    0\n",
       "city          0\n",
       "state         0\n",
       "dtype: int64"
      ]
     },
     "execution_count": 16,
     "metadata": {},
     "output_type": "execute_result"
    }
   ],
   "source": [
    "df.isna().sum()"
   ]
  },
  {
   "cell_type": "code",
   "execution_count": 17,
   "id": "19d7d997-273f-4fbd-a100-d351ccf7d3d6",
   "metadata": {},
   "outputs": [
    {
     "data": {
      "text/html": [
       "<div>\n",
       "<style scoped>\n",
       "    .dataframe tbody tr th:only-of-type {\n",
       "        vertical-align: middle;\n",
       "    }\n",
       "\n",
       "    .dataframe tbody tr th {\n",
       "        vertical-align: top;\n",
       "    }\n",
       "\n",
       "    .dataframe thead th {\n",
       "        text-align: right;\n",
       "    }\n",
       "</style>\n",
       "<table border=\"1\" class=\"dataframe\">\n",
       "  <thead>\n",
       "    <tr style=\"text-align: right;\">\n",
       "      <th></th>\n",
       "      <th>price</th>\n",
       "      <th>bed</th>\n",
       "      <th>bath</th>\n",
       "      <th>acre_lot</th>\n",
       "      <th>street</th>\n",
       "      <th>house_size</th>\n",
       "      <th>city</th>\n",
       "      <th>state</th>\n",
       "    </tr>\n",
       "  </thead>\n",
       "  <tbody>\n",
       "    <tr>\n",
       "      <th>0</th>\n",
       "      <td>105000.0</td>\n",
       "      <td>3.0</td>\n",
       "      <td>2.0</td>\n",
       "      <td>0.12</td>\n",
       "      <td>1962661.0</td>\n",
       "      <td>920.000000</td>\n",
       "      <td>Adjuntas</td>\n",
       "      <td>Puerto Rico</td>\n",
       "    </tr>\n",
       "    <tr>\n",
       "      <th>1</th>\n",
       "      <td>80000.0</td>\n",
       "      <td>4.0</td>\n",
       "      <td>2.0</td>\n",
       "      <td>0.08</td>\n",
       "      <td>1902874.0</td>\n",
       "      <td>1527.000000</td>\n",
       "      <td>Adjuntas</td>\n",
       "      <td>Puerto Rico</td>\n",
       "    </tr>\n",
       "    <tr>\n",
       "      <th>2</th>\n",
       "      <td>67000.0</td>\n",
       "      <td>2.0</td>\n",
       "      <td>1.0</td>\n",
       "      <td>0.15</td>\n",
       "      <td>1404990.0</td>\n",
       "      <td>748.000000</td>\n",
       "      <td>Juana Diaz</td>\n",
       "      <td>Puerto Rico</td>\n",
       "    </tr>\n",
       "    <tr>\n",
       "      <th>3</th>\n",
       "      <td>145000.0</td>\n",
       "      <td>4.0</td>\n",
       "      <td>2.0</td>\n",
       "      <td>0.10</td>\n",
       "      <td>1947675.0</td>\n",
       "      <td>1800.000000</td>\n",
       "      <td>Ponce</td>\n",
       "      <td>Puerto Rico</td>\n",
       "    </tr>\n",
       "    <tr>\n",
       "      <th>4</th>\n",
       "      <td>65000.0</td>\n",
       "      <td>6.0</td>\n",
       "      <td>2.0</td>\n",
       "      <td>0.05</td>\n",
       "      <td>331151.0</td>\n",
       "      <td>2714.471335</td>\n",
       "      <td>Mayaguez</td>\n",
       "      <td>Puerto Rico</td>\n",
       "    </tr>\n",
       "    <tr>\n",
       "      <th>...</th>\n",
       "      <td>...</td>\n",
       "      <td>...</td>\n",
       "      <td>...</td>\n",
       "      <td>...</td>\n",
       "      <td>...</td>\n",
       "      <td>...</td>\n",
       "      <td>...</td>\n",
       "      <td>...</td>\n",
       "    </tr>\n",
       "    <tr>\n",
       "      <th>2226377</th>\n",
       "      <td>359900.0</td>\n",
       "      <td>4.0</td>\n",
       "      <td>2.0</td>\n",
       "      <td>0.33</td>\n",
       "      <td>353094.0</td>\n",
       "      <td>3600.000000</td>\n",
       "      <td>Richland</td>\n",
       "      <td>Washington</td>\n",
       "    </tr>\n",
       "    <tr>\n",
       "      <th>2226378</th>\n",
       "      <td>350000.0</td>\n",
       "      <td>3.0</td>\n",
       "      <td>2.0</td>\n",
       "      <td>0.10</td>\n",
       "      <td>1062149.0</td>\n",
       "      <td>1616.000000</td>\n",
       "      <td>Richland</td>\n",
       "      <td>Washington</td>\n",
       "    </tr>\n",
       "    <tr>\n",
       "      <th>2226379</th>\n",
       "      <td>440000.0</td>\n",
       "      <td>6.0</td>\n",
       "      <td>3.0</td>\n",
       "      <td>0.50</td>\n",
       "      <td>405677.0</td>\n",
       "      <td>3200.000000</td>\n",
       "      <td>Richland</td>\n",
       "      <td>Washington</td>\n",
       "    </tr>\n",
       "    <tr>\n",
       "      <th>2226380</th>\n",
       "      <td>179900.0</td>\n",
       "      <td>2.0</td>\n",
       "      <td>1.0</td>\n",
       "      <td>0.09</td>\n",
       "      <td>761379.0</td>\n",
       "      <td>933.000000</td>\n",
       "      <td>Richland</td>\n",
       "      <td>Washington</td>\n",
       "    </tr>\n",
       "    <tr>\n",
       "      <th>2226381</th>\n",
       "      <td>580000.0</td>\n",
       "      <td>5.0</td>\n",
       "      <td>3.0</td>\n",
       "      <td>0.31</td>\n",
       "      <td>307704.0</td>\n",
       "      <td>3615.000000</td>\n",
       "      <td>Richland</td>\n",
       "      <td>Washington</td>\n",
       "    </tr>\n",
       "  </tbody>\n",
       "</table>\n",
       "<p>2226382 rows × 8 columns</p>\n",
       "</div>"
      ],
      "text/plain": [
       "            price  bed  bath  acre_lot     street   house_size        city  \\\n",
       "0        105000.0  3.0   2.0      0.12  1962661.0   920.000000    Adjuntas   \n",
       "1         80000.0  4.0   2.0      0.08  1902874.0  1527.000000    Adjuntas   \n",
       "2         67000.0  2.0   1.0      0.15  1404990.0   748.000000  Juana Diaz   \n",
       "3        145000.0  4.0   2.0      0.10  1947675.0  1800.000000       Ponce   \n",
       "4         65000.0  6.0   2.0      0.05   331151.0  2714.471335    Mayaguez   \n",
       "...           ...  ...   ...       ...        ...          ...         ...   \n",
       "2226377  359900.0  4.0   2.0      0.33   353094.0  3600.000000    Richland   \n",
       "2226378  350000.0  3.0   2.0      0.10  1062149.0  1616.000000    Richland   \n",
       "2226379  440000.0  6.0   3.0      0.50   405677.0  3200.000000    Richland   \n",
       "2226380  179900.0  2.0   1.0      0.09   761379.0   933.000000    Richland   \n",
       "2226381  580000.0  5.0   3.0      0.31   307704.0  3615.000000    Richland   \n",
       "\n",
       "               state  \n",
       "0        Puerto Rico  \n",
       "1        Puerto Rico  \n",
       "2        Puerto Rico  \n",
       "3        Puerto Rico  \n",
       "4        Puerto Rico  \n",
       "...              ...  \n",
       "2226377   Washington  \n",
       "2226378   Washington  \n",
       "2226379   Washington  \n",
       "2226380   Washington  \n",
       "2226381   Washington  \n",
       "\n",
       "[2226382 rows x 8 columns]"
      ]
     },
     "execution_count": 17,
     "metadata": {},
     "output_type": "execute_result"
    }
   ],
   "source": [
    "df"
   ]
  },
  {
   "cell_type": "markdown",
   "id": "e09edc26-7b81-497c-982e-6f4ba832db92",
   "metadata": {},
   "source": [
    "#### LABEL ENCODING"
   ]
  },
  {
   "cell_type": "code",
   "execution_count": 18,
   "id": "8eb69a81-4ffc-4713-bde2-004ee89234e3",
   "metadata": {},
   "outputs": [],
   "source": [
    "from sklearn.preprocessing import LabelEncoder\n",
    "\n",
    "label_enc_city=LabelEncoder()\n",
    "label_enc_stat=LabelEncoder()\n",
    "\n",
    "\n",
    "df['city']=label_enc_city.fit_transform(df['city'])\n",
    "df['state']=label_enc_stat.fit_transform(df['state'])"
   ]
  },
  {
   "cell_type": "code",
   "execution_count": 19,
   "id": "20175277-e1a2-4ade-8e0c-fdcd711df693",
   "metadata": {
    "scrolled": true
   },
   "outputs": [
    {
     "data": {
      "text/html": [
       "<div>\n",
       "<style scoped>\n",
       "    .dataframe tbody tr th:only-of-type {\n",
       "        vertical-align: middle;\n",
       "    }\n",
       "\n",
       "    .dataframe tbody tr th {\n",
       "        vertical-align: top;\n",
       "    }\n",
       "\n",
       "    .dataframe thead th {\n",
       "        text-align: right;\n",
       "    }\n",
       "</style>\n",
       "<table border=\"1\" class=\"dataframe\">\n",
       "  <thead>\n",
       "    <tr style=\"text-align: right;\">\n",
       "      <th></th>\n",
       "      <th>price</th>\n",
       "      <th>bed</th>\n",
       "      <th>bath</th>\n",
       "      <th>acre_lot</th>\n",
       "      <th>street</th>\n",
       "      <th>house_size</th>\n",
       "      <th>city</th>\n",
       "      <th>state</th>\n",
       "    </tr>\n",
       "  </thead>\n",
       "  <tbody>\n",
       "    <tr>\n",
       "      <th>0</th>\n",
       "      <td>105000.0</td>\n",
       "      <td>3.0</td>\n",
       "      <td>2.0</td>\n",
       "      <td>0.12</td>\n",
       "      <td>1962661.0</td>\n",
       "      <td>920.000000</td>\n",
       "      <td>92</td>\n",
       "      <td>41</td>\n",
       "    </tr>\n",
       "    <tr>\n",
       "      <th>1</th>\n",
       "      <td>80000.0</td>\n",
       "      <td>4.0</td>\n",
       "      <td>2.0</td>\n",
       "      <td>0.08</td>\n",
       "      <td>1902874.0</td>\n",
       "      <td>1527.000000</td>\n",
       "      <td>92</td>\n",
       "      <td>41</td>\n",
       "    </tr>\n",
       "    <tr>\n",
       "      <th>2</th>\n",
       "      <td>67000.0</td>\n",
       "      <td>2.0</td>\n",
       "      <td>1.0</td>\n",
       "      <td>0.15</td>\n",
       "      <td>1404990.0</td>\n",
       "      <td>748.000000</td>\n",
       "      <td>8788</td>\n",
       "      <td>41</td>\n",
       "    </tr>\n",
       "    <tr>\n",
       "      <th>3</th>\n",
       "      <td>145000.0</td>\n",
       "      <td>4.0</td>\n",
       "      <td>2.0</td>\n",
       "      <td>0.10</td>\n",
       "      <td>1947675.0</td>\n",
       "      <td>1800.000000</td>\n",
       "      <td>14314</td>\n",
       "      <td>41</td>\n",
       "    </tr>\n",
       "    <tr>\n",
       "      <th>4</th>\n",
       "      <td>65000.0</td>\n",
       "      <td>6.0</td>\n",
       "      <td>2.0</td>\n",
       "      <td>0.05</td>\n",
       "      <td>331151.0</td>\n",
       "      <td>2714.471335</td>\n",
       "      <td>10936</td>\n",
       "      <td>41</td>\n",
       "    </tr>\n",
       "    <tr>\n",
       "      <th>...</th>\n",
       "      <td>...</td>\n",
       "      <td>...</td>\n",
       "      <td>...</td>\n",
       "      <td>...</td>\n",
       "      <td>...</td>\n",
       "      <td>...</td>\n",
       "      <td>...</td>\n",
       "      <td>...</td>\n",
       "    </tr>\n",
       "    <tr>\n",
       "      <th>2226377</th>\n",
       "      <td>359900.0</td>\n",
       "      <td>4.0</td>\n",
       "      <td>2.0</td>\n",
       "      <td>0.33</td>\n",
       "      <td>353094.0</td>\n",
       "      <td>3600.000000</td>\n",
       "      <td>15072</td>\n",
       "      <td>51</td>\n",
       "    </tr>\n",
       "    <tr>\n",
       "      <th>2226378</th>\n",
       "      <td>350000.0</td>\n",
       "      <td>3.0</td>\n",
       "      <td>2.0</td>\n",
       "      <td>0.10</td>\n",
       "      <td>1062149.0</td>\n",
       "      <td>1616.000000</td>\n",
       "      <td>15072</td>\n",
       "      <td>51</td>\n",
       "    </tr>\n",
       "    <tr>\n",
       "      <th>2226379</th>\n",
       "      <td>440000.0</td>\n",
       "      <td>6.0</td>\n",
       "      <td>3.0</td>\n",
       "      <td>0.50</td>\n",
       "      <td>405677.0</td>\n",
       "      <td>3200.000000</td>\n",
       "      <td>15072</td>\n",
       "      <td>51</td>\n",
       "    </tr>\n",
       "    <tr>\n",
       "      <th>2226380</th>\n",
       "      <td>179900.0</td>\n",
       "      <td>2.0</td>\n",
       "      <td>1.0</td>\n",
       "      <td>0.09</td>\n",
       "      <td>761379.0</td>\n",
       "      <td>933.000000</td>\n",
       "      <td>15072</td>\n",
       "      <td>51</td>\n",
       "    </tr>\n",
       "    <tr>\n",
       "      <th>2226381</th>\n",
       "      <td>580000.0</td>\n",
       "      <td>5.0</td>\n",
       "      <td>3.0</td>\n",
       "      <td>0.31</td>\n",
       "      <td>307704.0</td>\n",
       "      <td>3615.000000</td>\n",
       "      <td>15072</td>\n",
       "      <td>51</td>\n",
       "    </tr>\n",
       "  </tbody>\n",
       "</table>\n",
       "<p>2226382 rows × 8 columns</p>\n",
       "</div>"
      ],
      "text/plain": [
       "            price  bed  bath  acre_lot     street   house_size   city  state\n",
       "0        105000.0  3.0   2.0      0.12  1962661.0   920.000000     92     41\n",
       "1         80000.0  4.0   2.0      0.08  1902874.0  1527.000000     92     41\n",
       "2         67000.0  2.0   1.0      0.15  1404990.0   748.000000   8788     41\n",
       "3        145000.0  4.0   2.0      0.10  1947675.0  1800.000000  14314     41\n",
       "4         65000.0  6.0   2.0      0.05   331151.0  2714.471335  10936     41\n",
       "...           ...  ...   ...       ...        ...          ...    ...    ...\n",
       "2226377  359900.0  4.0   2.0      0.33   353094.0  3600.000000  15072     51\n",
       "2226378  350000.0  3.0   2.0      0.10  1062149.0  1616.000000  15072     51\n",
       "2226379  440000.0  6.0   3.0      0.50   405677.0  3200.000000  15072     51\n",
       "2226380  179900.0  2.0   1.0      0.09   761379.0   933.000000  15072     51\n",
       "2226381  580000.0  5.0   3.0      0.31   307704.0  3615.000000  15072     51\n",
       "\n",
       "[2226382 rows x 8 columns]"
      ]
     },
     "execution_count": 19,
     "metadata": {},
     "output_type": "execute_result"
    }
   ],
   "source": [
    "df"
   ]
  },
  {
   "cell_type": "code",
   "execution_count": 20,
   "id": "75b4426a-a875-418d-a52b-8762b1fa8f78",
   "metadata": {},
   "outputs": [],
   "source": [
    "import joblib"
   ]
  },
  {
   "cell_type": "code",
   "execution_count": 21,
   "id": "876c25bf-5c56-4c72-933a-5c4712fc74d9",
   "metadata": {},
   "outputs": [
    {
     "data": {
      "text/plain": [
       "['state_label_ecoding.joblib']"
      ]
     },
     "execution_count": 21,
     "metadata": {},
     "output_type": "execute_result"
    }
   ],
   "source": [
    "joblib.dump(label_enc_city,\"city_label_ecoding.joblib\")\n",
    "joblib.dump(label_enc_stat,\"state_label_ecoding.joblib\")"
   ]
  },
  {
   "cell_type": "code",
   "execution_count": 22,
   "id": "9c5e4a07-7721-4d81-af7d-5f1bd0a14df7",
   "metadata": {},
   "outputs": [
    {
     "data": {
      "text/plain": [
       "array([32])"
      ]
     },
     "execution_count": 22,
     "metadata": {},
     "output_type": "execute_result"
    }
   ],
   "source": [
    "label_enc_stat.transform([\"New Jersey\"])"
   ]
  },
  {
   "cell_type": "code",
   "execution_count": 23,
   "id": "8027f740-b89c-4dfd-8fc3-c25e9777e0f8",
   "metadata": {},
   "outputs": [
    {
     "data": {
      "text/plain": [
       "array([92])"
      ]
     },
     "execution_count": 23,
     "metadata": {},
     "output_type": "execute_result"
    }
   ],
   "source": [
    "label_enc_city.transform([\"Adjuntas\"])"
   ]
  },
  {
   "cell_type": "markdown",
   "id": "2fea02e1-64ee-4811-9a1f-8a8c90870f2d",
   "metadata": {},
   "source": [
    "#### TRAIN TEST SPLIT"
   ]
  },
  {
   "cell_type": "code",
   "execution_count": 24,
   "id": "9340bdc9-60c7-4dc0-aa00-23f220df7b4a",
   "metadata": {},
   "outputs": [],
   "source": [
    "from sklearn.model_selection import train_test_split"
   ]
  },
  {
   "cell_type": "code",
   "execution_count": 25,
   "id": "d165f273-5cae-489b-ada0-0434dfe9d2c9",
   "metadata": {},
   "outputs": [],
   "source": [
    "X = df.drop(\"price\",axis=1)\n",
    "y = df[\"price\"]"
   ]
  },
  {
   "cell_type": "code",
   "execution_count": 26,
   "id": "f6ab6723-71ac-4401-99b6-f54f49705c89",
   "metadata": {},
   "outputs": [
    {
     "data": {
      "text/html": [
       "<div>\n",
       "<style scoped>\n",
       "    .dataframe tbody tr th:only-of-type {\n",
       "        vertical-align: middle;\n",
       "    }\n",
       "\n",
       "    .dataframe tbody tr th {\n",
       "        vertical-align: top;\n",
       "    }\n",
       "\n",
       "    .dataframe thead th {\n",
       "        text-align: right;\n",
       "    }\n",
       "</style>\n",
       "<table border=\"1\" class=\"dataframe\">\n",
       "  <thead>\n",
       "    <tr style=\"text-align: right;\">\n",
       "      <th></th>\n",
       "      <th>bed</th>\n",
       "      <th>bath</th>\n",
       "      <th>acre_lot</th>\n",
       "      <th>street</th>\n",
       "      <th>house_size</th>\n",
       "      <th>city</th>\n",
       "      <th>state</th>\n",
       "    </tr>\n",
       "  </thead>\n",
       "  <tbody>\n",
       "    <tr>\n",
       "      <th>0</th>\n",
       "      <td>3.0</td>\n",
       "      <td>2.0</td>\n",
       "      <td>0.12</td>\n",
       "      <td>1962661.0</td>\n",
       "      <td>920.000000</td>\n",
       "      <td>92</td>\n",
       "      <td>41</td>\n",
       "    </tr>\n",
       "    <tr>\n",
       "      <th>1</th>\n",
       "      <td>4.0</td>\n",
       "      <td>2.0</td>\n",
       "      <td>0.08</td>\n",
       "      <td>1902874.0</td>\n",
       "      <td>1527.000000</td>\n",
       "      <td>92</td>\n",
       "      <td>41</td>\n",
       "    </tr>\n",
       "    <tr>\n",
       "      <th>2</th>\n",
       "      <td>2.0</td>\n",
       "      <td>1.0</td>\n",
       "      <td>0.15</td>\n",
       "      <td>1404990.0</td>\n",
       "      <td>748.000000</td>\n",
       "      <td>8788</td>\n",
       "      <td>41</td>\n",
       "    </tr>\n",
       "    <tr>\n",
       "      <th>3</th>\n",
       "      <td>4.0</td>\n",
       "      <td>2.0</td>\n",
       "      <td>0.10</td>\n",
       "      <td>1947675.0</td>\n",
       "      <td>1800.000000</td>\n",
       "      <td>14314</td>\n",
       "      <td>41</td>\n",
       "    </tr>\n",
       "    <tr>\n",
       "      <th>4</th>\n",
       "      <td>6.0</td>\n",
       "      <td>2.0</td>\n",
       "      <td>0.05</td>\n",
       "      <td>331151.0</td>\n",
       "      <td>2714.471335</td>\n",
       "      <td>10936</td>\n",
       "      <td>41</td>\n",
       "    </tr>\n",
       "    <tr>\n",
       "      <th>...</th>\n",
       "      <td>...</td>\n",
       "      <td>...</td>\n",
       "      <td>...</td>\n",
       "      <td>...</td>\n",
       "      <td>...</td>\n",
       "      <td>...</td>\n",
       "      <td>...</td>\n",
       "    </tr>\n",
       "    <tr>\n",
       "      <th>2226377</th>\n",
       "      <td>4.0</td>\n",
       "      <td>2.0</td>\n",
       "      <td>0.33</td>\n",
       "      <td>353094.0</td>\n",
       "      <td>3600.000000</td>\n",
       "      <td>15072</td>\n",
       "      <td>51</td>\n",
       "    </tr>\n",
       "    <tr>\n",
       "      <th>2226378</th>\n",
       "      <td>3.0</td>\n",
       "      <td>2.0</td>\n",
       "      <td>0.10</td>\n",
       "      <td>1062149.0</td>\n",
       "      <td>1616.000000</td>\n",
       "      <td>15072</td>\n",
       "      <td>51</td>\n",
       "    </tr>\n",
       "    <tr>\n",
       "      <th>2226379</th>\n",
       "      <td>6.0</td>\n",
       "      <td>3.0</td>\n",
       "      <td>0.50</td>\n",
       "      <td>405677.0</td>\n",
       "      <td>3200.000000</td>\n",
       "      <td>15072</td>\n",
       "      <td>51</td>\n",
       "    </tr>\n",
       "    <tr>\n",
       "      <th>2226380</th>\n",
       "      <td>2.0</td>\n",
       "      <td>1.0</td>\n",
       "      <td>0.09</td>\n",
       "      <td>761379.0</td>\n",
       "      <td>933.000000</td>\n",
       "      <td>15072</td>\n",
       "      <td>51</td>\n",
       "    </tr>\n",
       "    <tr>\n",
       "      <th>2226381</th>\n",
       "      <td>5.0</td>\n",
       "      <td>3.0</td>\n",
       "      <td>0.31</td>\n",
       "      <td>307704.0</td>\n",
       "      <td>3615.000000</td>\n",
       "      <td>15072</td>\n",
       "      <td>51</td>\n",
       "    </tr>\n",
       "  </tbody>\n",
       "</table>\n",
       "<p>2226382 rows × 7 columns</p>\n",
       "</div>"
      ],
      "text/plain": [
       "         bed  bath  acre_lot     street   house_size   city  state\n",
       "0        3.0   2.0      0.12  1962661.0   920.000000     92     41\n",
       "1        4.0   2.0      0.08  1902874.0  1527.000000     92     41\n",
       "2        2.0   1.0      0.15  1404990.0   748.000000   8788     41\n",
       "3        4.0   2.0      0.10  1947675.0  1800.000000  14314     41\n",
       "4        6.0   2.0      0.05   331151.0  2714.471335  10936     41\n",
       "...      ...   ...       ...        ...          ...    ...    ...\n",
       "2226377  4.0   2.0      0.33   353094.0  3600.000000  15072     51\n",
       "2226378  3.0   2.0      0.10  1062149.0  1616.000000  15072     51\n",
       "2226379  6.0   3.0      0.50   405677.0  3200.000000  15072     51\n",
       "2226380  2.0   1.0      0.09   761379.0   933.000000  15072     51\n",
       "2226381  5.0   3.0      0.31   307704.0  3615.000000  15072     51\n",
       "\n",
       "[2226382 rows x 7 columns]"
      ]
     },
     "execution_count": 26,
     "metadata": {},
     "output_type": "execute_result"
    }
   ],
   "source": [
    "X"
   ]
  },
  {
   "cell_type": "code",
   "execution_count": 27,
   "id": "556ff006-8e00-4330-a311-ed240c9a8bd9",
   "metadata": {},
   "outputs": [],
   "source": [
    "# Split\n",
    "X_train, X_test, y_train, y_test = train_test_split(X, y, test_size=0.3, random_state=0)\n"
   ]
  },
  {
   "cell_type": "code",
   "execution_count": 28,
   "id": "d131f37d-f803-472c-bf2d-2ef011af0e95",
   "metadata": {},
   "outputs": [
    {
     "data": {
      "text/html": [
       "<div>\n",
       "<style scoped>\n",
       "    .dataframe tbody tr th:only-of-type {\n",
       "        vertical-align: middle;\n",
       "    }\n",
       "\n",
       "    .dataframe tbody tr th {\n",
       "        vertical-align: top;\n",
       "    }\n",
       "\n",
       "    .dataframe thead th {\n",
       "        text-align: right;\n",
       "    }\n",
       "</style>\n",
       "<table border=\"1\" class=\"dataframe\">\n",
       "  <thead>\n",
       "    <tr style=\"text-align: right;\">\n",
       "      <th></th>\n",
       "      <th>bed</th>\n",
       "      <th>bath</th>\n",
       "      <th>acre_lot</th>\n",
       "      <th>street</th>\n",
       "      <th>house_size</th>\n",
       "      <th>city</th>\n",
       "      <th>state</th>\n",
       "    </tr>\n",
       "  </thead>\n",
       "  <tbody>\n",
       "    <tr>\n",
       "      <th>10715</th>\n",
       "      <td>4.000000</td>\n",
       "      <td>3.00000</td>\n",
       "      <td>4.000000</td>\n",
       "      <td>601919.0</td>\n",
       "      <td>2359.000000</td>\n",
       "      <td>4829</td>\n",
       "      <td>31</td>\n",
       "    </tr>\n",
       "    <tr>\n",
       "      <th>2197075</th>\n",
       "      <td>3.000000</td>\n",
       "      <td>3.00000</td>\n",
       "      <td>0.130000</td>\n",
       "      <td>463962.0</td>\n",
       "      <td>2090.000000</td>\n",
       "      <td>1825</td>\n",
       "      <td>51</td>\n",
       "    </tr>\n",
       "    <tr>\n",
       "      <th>1243748</th>\n",
       "      <td>3.275841</td>\n",
       "      <td>2.49644</td>\n",
       "      <td>4.850000</td>\n",
       "      <td>1168730.0</td>\n",
       "      <td>2714.471335</td>\n",
       "      <td>16507</td>\n",
       "      <td>33</td>\n",
       "    </tr>\n",
       "    <tr>\n",
       "      <th>942203</th>\n",
       "      <td>2.000000</td>\n",
       "      <td>1.00000</td>\n",
       "      <td>0.200000</td>\n",
       "      <td>505575.0</td>\n",
       "      <td>1200.000000</td>\n",
       "      <td>10639</td>\n",
       "      <td>17</td>\n",
       "    </tr>\n",
       "    <tr>\n",
       "      <th>796441</th>\n",
       "      <td>3.000000</td>\n",
       "      <td>4.00000</td>\n",
       "      <td>2.000000</td>\n",
       "      <td>1329698.0</td>\n",
       "      <td>2866.000000</td>\n",
       "      <td>19880</td>\n",
       "      <td>14</td>\n",
       "    </tr>\n",
       "    <tr>\n",
       "      <th>...</th>\n",
       "      <td>...</td>\n",
       "      <td>...</td>\n",
       "      <td>...</td>\n",
       "      <td>...</td>\n",
       "      <td>...</td>\n",
       "      <td>...</td>\n",
       "      <td>...</td>\n",
       "    </tr>\n",
       "    <tr>\n",
       "      <th>2219731</th>\n",
       "      <td>3.000000</td>\n",
       "      <td>1.00000</td>\n",
       "      <td>4.330000</td>\n",
       "      <td>1033913.0</td>\n",
       "      <td>960.000000</td>\n",
       "      <td>16757</td>\n",
       "      <td>51</td>\n",
       "    </tr>\n",
       "    <tr>\n",
       "      <th>963395</th>\n",
       "      <td>2.000000</td>\n",
       "      <td>1.00000</td>\n",
       "      <td>0.280000</td>\n",
       "      <td>972520.0</td>\n",
       "      <td>1626.000000</td>\n",
       "      <td>13251</td>\n",
       "      <td>19</td>\n",
       "    </tr>\n",
       "    <tr>\n",
       "      <th>2215104</th>\n",
       "      <td>3.000000</td>\n",
       "      <td>1.00000</td>\n",
       "      <td>0.350000</td>\n",
       "      <td>153792.0</td>\n",
       "      <td>984.000000</td>\n",
       "      <td>13168</td>\n",
       "      <td>51</td>\n",
       "    </tr>\n",
       "    <tr>\n",
       "      <th>1484405</th>\n",
       "      <td>3.000000</td>\n",
       "      <td>2.00000</td>\n",
       "      <td>15.223027</td>\n",
       "      <td>1694253.0</td>\n",
       "      <td>1568.000000</td>\n",
       "      <td>10105</td>\n",
       "      <td>34</td>\n",
       "    </tr>\n",
       "    <tr>\n",
       "      <th>305711</th>\n",
       "      <td>4.000000</td>\n",
       "      <td>3.00000</td>\n",
       "      <td>0.250000</td>\n",
       "      <td>1636469.0</td>\n",
       "      <td>1950.000000</td>\n",
       "      <td>18547</td>\n",
       "      <td>35</td>\n",
       "    </tr>\n",
       "  </tbody>\n",
       "</table>\n",
       "<p>1558467 rows × 7 columns</p>\n",
       "</div>"
      ],
      "text/plain": [
       "              bed     bath   acre_lot     street   house_size   city  state\n",
       "10715    4.000000  3.00000   4.000000   601919.0  2359.000000   4829     31\n",
       "2197075  3.000000  3.00000   0.130000   463962.0  2090.000000   1825     51\n",
       "1243748  3.275841  2.49644   4.850000  1168730.0  2714.471335  16507     33\n",
       "942203   2.000000  1.00000   0.200000   505575.0  1200.000000  10639     17\n",
       "796441   3.000000  4.00000   2.000000  1329698.0  2866.000000  19880     14\n",
       "...           ...      ...        ...        ...          ...    ...    ...\n",
       "2219731  3.000000  1.00000   4.330000  1033913.0   960.000000  16757     51\n",
       "963395   2.000000  1.00000   0.280000   972520.0  1626.000000  13251     19\n",
       "2215104  3.000000  1.00000   0.350000   153792.0   984.000000  13168     51\n",
       "1484405  3.000000  2.00000  15.223027  1694253.0  1568.000000  10105     34\n",
       "305711   4.000000  3.00000   0.250000  1636469.0  1950.000000  18547     35\n",
       "\n",
       "[1558467 rows x 7 columns]"
      ]
     },
     "execution_count": 28,
     "metadata": {},
     "output_type": "execute_result"
    }
   ],
   "source": [
    "X_train"
   ]
  },
  {
   "cell_type": "markdown",
   "id": "7367e81b-721d-4f11-9ad9-ff0c677f711c",
   "metadata": {},
   "source": [
    "#### STANDARD SCALING"
   ]
  },
  {
   "cell_type": "code",
   "execution_count": 29,
   "id": "cbc545e8-5e18-455b-b94c-c44975ba90b8",
   "metadata": {},
   "outputs": [],
   "source": [
    "from sklearn.preprocessing import StandardScaler"
   ]
  },
  {
   "cell_type": "code",
   "execution_count": 30,
   "id": "3c696b77-f35e-471b-880a-7990f1ea64ca",
   "metadata": {},
   "outputs": [
    {
     "data": {
      "text/plain": [
       "['standard_scaling.joblib']"
      ]
     },
     "execution_count": 30,
     "metadata": {},
     "output_type": "execute_result"
    }
   ],
   "source": [
    "scaler=StandardScaler()\n",
    "X_train=scaler.fit_transform(X_train)\n",
    "X_test=scaler.transform(X_test)\n",
    "joblib.dump(scaler,\"standard_scaling.joblib\")"
   ]
  },
  {
   "cell_type": "code",
   "execution_count": 31,
   "id": "05320ced-9039-439a-9acb-db3632efe874",
   "metadata": {},
   "outputs": [
    {
     "data": {
      "text/plain": [
       "array([[ 5.47790940e-01,  3.62227074e-01, -1.56425433e-02, ...,\n",
       "        -6.59997694e-04, -9.11275299e-01,  3.53752316e-01],\n",
       "       [-2.08162151e-01,  3.62227074e-01, -2.14283193e-02, ...,\n",
       "        -9.82744834e-04, -1.43612362e+00,  1.54557345e+00],\n",
       "       [ 3.60499976e-04,  2.66097818e-04, -1.43717656e-02, ...,\n",
       "        -2.33501944e-04,  1.12906379e+00,  4.72934430e-01],\n",
       "       ...,\n",
       "       [-2.08162151e-01, -1.07538192e+00, -2.10994121e-02, ...,\n",
       "        -2.30972750e-03,  5.45685456e-01,  1.54557345e+00],\n",
       "       [-2.08162151e-01, -3.56577422e-01,  1.13624836e-03, ...,\n",
       "        -1.60904226e-03,  1.05288674e-02,  5.32525487e-01],\n",
       "       [ 5.47790940e-01,  3.62227074e-01, -2.12489154e-02, ...,\n",
       "        -1.15071732e-03,  1.48548542e+00,  5.92116544e-01]])"
      ]
     },
     "execution_count": 31,
     "metadata": {},
     "output_type": "execute_result"
    }
   ],
   "source": [
    "X_train"
   ]
  },
  {
   "cell_type": "markdown",
   "id": "f445d050-7bcd-4c77-a851-eb2cdd1b2242",
   "metadata": {},
   "source": [
    "#### SET UP ARTIFICIAL NEURAL NETWORK"
   ]
  },
  {
   "cell_type": "code",
   "execution_count": 32,
   "id": "11ad9fea-24de-4adb-960b-c7d1d7db8d8e",
   "metadata": {},
   "outputs": [],
   "source": [
    "from tensorflow.keras.models import Sequential\n",
    "from tensorflow.keras.layers import Dense\n",
    "import tensorflow as tf"
   ]
  },
  {
   "cell_type": "code",
   "execution_count": 33,
   "id": "55f915d2-0a7e-4109-8c6a-e83567f97a7d",
   "metadata": {},
   "outputs": [],
   "source": [
    "def r2_keras(y_true, y_pred):\n",
    "    ss_res = tf.reduce_sum(tf.square(y_true - y_pred))\n",
    "    ss_tot = tf.reduce_sum(tf.square(y_true - tf.reduce_mean(y_true)))\n",
    "    return 1 - ss_res / (ss_tot + tf.keras.backend.epsilon())"
   ]
  },
  {
   "cell_type": "code",
   "execution_count": 34,
   "id": "8ed49bbd-e4d4-43a1-a1e6-bef6c23049b7",
   "metadata": {},
   "outputs": [
    {
     "name": "stderr",
     "output_type": "stream",
     "text": [
      "C:\\Users\\baher\\anaconda3\\Lib\\site-packages\\keras\\src\\layers\\core\\dense.py:87: UserWarning: Do not pass an `input_shape`/`input_dim` argument to a layer. When using Sequential models, prefer using an `Input(shape)` object as the first layer in the model instead.\n",
      "  super().__init__(activity_regularizer=activity_regularizer, **kwargs)\n"
     ]
    }
   ],
   "source": [
    "model=Sequential(\n",
    "    [Dense(256,activation=\"elu\",input_shape=(X_train.shape[1],)),\n",
    "     Dense(128,activation=\"elu\"),\n",
    "     Dense(64,activation=\"elu\"),\n",
    "    Dense(32,activation=\"elu\"),\n",
    "     Dense(16,activation=\"elu\"),\n",
    "     Dense(8,activation=\"elu\"),\n",
    "     Dense(4,activation=\"elu\"),\n",
    "     Dense(2,activation=\"elu\"),\n",
    "    Dense(1,activation=\"elu\")]\n",
    ")\n",
    "model.compile(optimizer='adam', loss='mse', metrics=['mae',r2_keras])"
   ]
  },
  {
   "cell_type": "code",
   "execution_count": 35,
   "id": "5bd19b9e-758f-460e-b0b4-c00be31704da",
   "metadata": {
    "scrolled": true
   },
   "outputs": [
    {
     "data": {
      "text/html": [
       "<pre style=\"white-space:pre;overflow-x:auto;line-height:normal;font-family:Menlo,'DejaVu Sans Mono',consolas,'Courier New',monospace\"><span style=\"font-weight: bold\">Model: \"sequential\"</span>\n",
       "</pre>\n"
      ],
      "text/plain": [
       "\u001b[1mModel: \"sequential\"\u001b[0m\n"
      ]
     },
     "metadata": {},
     "output_type": "display_data"
    },
    {
     "data": {
      "text/html": [
       "<pre style=\"white-space:pre;overflow-x:auto;line-height:normal;font-family:Menlo,'DejaVu Sans Mono',consolas,'Courier New',monospace\">┏━━━━━━━━━━━━━━━━━━━━━━━━━━━━━━━━━┳━━━━━━━━━━━━━━━━━━━━━━━━┳━━━━━━━━━━━━━━━┓\n",
       "┃<span style=\"font-weight: bold\"> Layer (type)                    </span>┃<span style=\"font-weight: bold\"> Output Shape           </span>┃<span style=\"font-weight: bold\">       Param # </span>┃\n",
       "┡━━━━━━━━━━━━━━━━━━━━━━━━━━━━━━━━━╇━━━━━━━━━━━━━━━━━━━━━━━━╇━━━━━━━━━━━━━━━┩\n",
       "│ dense (<span style=\"color: #0087ff; text-decoration-color: #0087ff\">Dense</span>)                   │ (<span style=\"color: #00d7ff; text-decoration-color: #00d7ff\">None</span>, <span style=\"color: #00af00; text-decoration-color: #00af00\">256</span>)            │         <span style=\"color: #00af00; text-decoration-color: #00af00\">2,048</span> │\n",
       "├─────────────────────────────────┼────────────────────────┼───────────────┤\n",
       "│ dense_1 (<span style=\"color: #0087ff; text-decoration-color: #0087ff\">Dense</span>)                 │ (<span style=\"color: #00d7ff; text-decoration-color: #00d7ff\">None</span>, <span style=\"color: #00af00; text-decoration-color: #00af00\">128</span>)            │        <span style=\"color: #00af00; text-decoration-color: #00af00\">32,896</span> │\n",
       "├─────────────────────────────────┼────────────────────────┼───────────────┤\n",
       "│ dense_2 (<span style=\"color: #0087ff; text-decoration-color: #0087ff\">Dense</span>)                 │ (<span style=\"color: #00d7ff; text-decoration-color: #00d7ff\">None</span>, <span style=\"color: #00af00; text-decoration-color: #00af00\">64</span>)             │         <span style=\"color: #00af00; text-decoration-color: #00af00\">8,256</span> │\n",
       "├─────────────────────────────────┼────────────────────────┼───────────────┤\n",
       "│ dense_3 (<span style=\"color: #0087ff; text-decoration-color: #0087ff\">Dense</span>)                 │ (<span style=\"color: #00d7ff; text-decoration-color: #00d7ff\">None</span>, <span style=\"color: #00af00; text-decoration-color: #00af00\">32</span>)             │         <span style=\"color: #00af00; text-decoration-color: #00af00\">2,080</span> │\n",
       "├─────────────────────────────────┼────────────────────────┼───────────────┤\n",
       "│ dense_4 (<span style=\"color: #0087ff; text-decoration-color: #0087ff\">Dense</span>)                 │ (<span style=\"color: #00d7ff; text-decoration-color: #00d7ff\">None</span>, <span style=\"color: #00af00; text-decoration-color: #00af00\">16</span>)             │           <span style=\"color: #00af00; text-decoration-color: #00af00\">528</span> │\n",
       "├─────────────────────────────────┼────────────────────────┼───────────────┤\n",
       "│ dense_5 (<span style=\"color: #0087ff; text-decoration-color: #0087ff\">Dense</span>)                 │ (<span style=\"color: #00d7ff; text-decoration-color: #00d7ff\">None</span>, <span style=\"color: #00af00; text-decoration-color: #00af00\">8</span>)              │           <span style=\"color: #00af00; text-decoration-color: #00af00\">136</span> │\n",
       "├─────────────────────────────────┼────────────────────────┼───────────────┤\n",
       "│ dense_6 (<span style=\"color: #0087ff; text-decoration-color: #0087ff\">Dense</span>)                 │ (<span style=\"color: #00d7ff; text-decoration-color: #00d7ff\">None</span>, <span style=\"color: #00af00; text-decoration-color: #00af00\">4</span>)              │            <span style=\"color: #00af00; text-decoration-color: #00af00\">36</span> │\n",
       "├─────────────────────────────────┼────────────────────────┼───────────────┤\n",
       "│ dense_7 (<span style=\"color: #0087ff; text-decoration-color: #0087ff\">Dense</span>)                 │ (<span style=\"color: #00d7ff; text-decoration-color: #00d7ff\">None</span>, <span style=\"color: #00af00; text-decoration-color: #00af00\">2</span>)              │            <span style=\"color: #00af00; text-decoration-color: #00af00\">10</span> │\n",
       "├─────────────────────────────────┼────────────────────────┼───────────────┤\n",
       "│ dense_8 (<span style=\"color: #0087ff; text-decoration-color: #0087ff\">Dense</span>)                 │ (<span style=\"color: #00d7ff; text-decoration-color: #00d7ff\">None</span>, <span style=\"color: #00af00; text-decoration-color: #00af00\">1</span>)              │             <span style=\"color: #00af00; text-decoration-color: #00af00\">3</span> │\n",
       "└─────────────────────────────────┴────────────────────────┴───────────────┘\n",
       "</pre>\n"
      ],
      "text/plain": [
       "┏━━━━━━━━━━━━━━━━━━━━━━━━━━━━━━━━━┳━━━━━━━━━━━━━━━━━━━━━━━━┳━━━━━━━━━━━━━━━┓\n",
       "┃\u001b[1m \u001b[0m\u001b[1mLayer (type)                   \u001b[0m\u001b[1m \u001b[0m┃\u001b[1m \u001b[0m\u001b[1mOutput Shape          \u001b[0m\u001b[1m \u001b[0m┃\u001b[1m \u001b[0m\u001b[1m      Param #\u001b[0m\u001b[1m \u001b[0m┃\n",
       "┡━━━━━━━━━━━━━━━━━━━━━━━━━━━━━━━━━╇━━━━━━━━━━━━━━━━━━━━━━━━╇━━━━━━━━━━━━━━━┩\n",
       "│ dense (\u001b[38;5;33mDense\u001b[0m)                   │ (\u001b[38;5;45mNone\u001b[0m, \u001b[38;5;34m256\u001b[0m)            │         \u001b[38;5;34m2,048\u001b[0m │\n",
       "├─────────────────────────────────┼────────────────────────┼───────────────┤\n",
       "│ dense_1 (\u001b[38;5;33mDense\u001b[0m)                 │ (\u001b[38;5;45mNone\u001b[0m, \u001b[38;5;34m128\u001b[0m)            │        \u001b[38;5;34m32,896\u001b[0m │\n",
       "├─────────────────────────────────┼────────────────────────┼───────────────┤\n",
       "│ dense_2 (\u001b[38;5;33mDense\u001b[0m)                 │ (\u001b[38;5;45mNone\u001b[0m, \u001b[38;5;34m64\u001b[0m)             │         \u001b[38;5;34m8,256\u001b[0m │\n",
       "├─────────────────────────────────┼────────────────────────┼───────────────┤\n",
       "│ dense_3 (\u001b[38;5;33mDense\u001b[0m)                 │ (\u001b[38;5;45mNone\u001b[0m, \u001b[38;5;34m32\u001b[0m)             │         \u001b[38;5;34m2,080\u001b[0m │\n",
       "├─────────────────────────────────┼────────────────────────┼───────────────┤\n",
       "│ dense_4 (\u001b[38;5;33mDense\u001b[0m)                 │ (\u001b[38;5;45mNone\u001b[0m, \u001b[38;5;34m16\u001b[0m)             │           \u001b[38;5;34m528\u001b[0m │\n",
       "├─────────────────────────────────┼────────────────────────┼───────────────┤\n",
       "│ dense_5 (\u001b[38;5;33mDense\u001b[0m)                 │ (\u001b[38;5;45mNone\u001b[0m, \u001b[38;5;34m8\u001b[0m)              │           \u001b[38;5;34m136\u001b[0m │\n",
       "├─────────────────────────────────┼────────────────────────┼───────────────┤\n",
       "│ dense_6 (\u001b[38;5;33mDense\u001b[0m)                 │ (\u001b[38;5;45mNone\u001b[0m, \u001b[38;5;34m4\u001b[0m)              │            \u001b[38;5;34m36\u001b[0m │\n",
       "├─────────────────────────────────┼────────────────────────┼───────────────┤\n",
       "│ dense_7 (\u001b[38;5;33mDense\u001b[0m)                 │ (\u001b[38;5;45mNone\u001b[0m, \u001b[38;5;34m2\u001b[0m)              │            \u001b[38;5;34m10\u001b[0m │\n",
       "├─────────────────────────────────┼────────────────────────┼───────────────┤\n",
       "│ dense_8 (\u001b[38;5;33mDense\u001b[0m)                 │ (\u001b[38;5;45mNone\u001b[0m, \u001b[38;5;34m1\u001b[0m)              │             \u001b[38;5;34m3\u001b[0m │\n",
       "└─────────────────────────────────┴────────────────────────┴───────────────┘\n"
      ]
     },
     "metadata": {},
     "output_type": "display_data"
    },
    {
     "data": {
      "text/html": [
       "<pre style=\"white-space:pre;overflow-x:auto;line-height:normal;font-family:Menlo,'DejaVu Sans Mono',consolas,'Courier New',monospace\"><span style=\"font-weight: bold\"> Total params: </span><span style=\"color: #00af00; text-decoration-color: #00af00\">45,993</span> (179.66 KB)\n",
       "</pre>\n"
      ],
      "text/plain": [
       "\u001b[1m Total params: \u001b[0m\u001b[38;5;34m45,993\u001b[0m (179.66 KB)\n"
      ]
     },
     "metadata": {},
     "output_type": "display_data"
    },
    {
     "data": {
      "text/html": [
       "<pre style=\"white-space:pre;overflow-x:auto;line-height:normal;font-family:Menlo,'DejaVu Sans Mono',consolas,'Courier New',monospace\"><span style=\"font-weight: bold\"> Trainable params: </span><span style=\"color: #00af00; text-decoration-color: #00af00\">45,993</span> (179.66 KB)\n",
       "</pre>\n"
      ],
      "text/plain": [
       "\u001b[1m Trainable params: \u001b[0m\u001b[38;5;34m45,993\u001b[0m (179.66 KB)\n"
      ]
     },
     "metadata": {},
     "output_type": "display_data"
    },
    {
     "data": {
      "text/html": [
       "<pre style=\"white-space:pre;overflow-x:auto;line-height:normal;font-family:Menlo,'DejaVu Sans Mono',consolas,'Courier New',monospace\"><span style=\"font-weight: bold\"> Non-trainable params: </span><span style=\"color: #00af00; text-decoration-color: #00af00\">0</span> (0.00 B)\n",
       "</pre>\n"
      ],
      "text/plain": [
       "\u001b[1m Non-trainable params: \u001b[0m\u001b[38;5;34m0\u001b[0m (0.00 B)\n"
      ]
     },
     "metadata": {},
     "output_type": "display_data"
    }
   ],
   "source": [
    "model.summary()"
   ]
  },
  {
   "cell_type": "markdown",
   "id": "c55ef9e9-f5dd-4bed-831d-bf5ae10b1bef",
   "metadata": {},
   "source": [
    "#### TRAIN"
   ]
  },
  {
   "cell_type": "code",
   "execution_count": 36,
   "id": "b0c78f9e-6f2a-4fa5-a670-68f6e32aef9f",
   "metadata": {
    "scrolled": true
   },
   "outputs": [
    {
     "name": "stdout",
     "output_type": "stream",
     "text": [
      "Epoch 1/100\n",
      "\u001b[1m38962/38962\u001b[0m \u001b[32m━━━━━━━━━━━━━━━━━━━━\u001b[0m\u001b[37m\u001b[0m \u001b[1m63s\u001b[0m 2ms/step - loss: 2076092006400.0000 - mae: 370593.0938 - r2_keras: -0.8404 - val_loss: 23618398453760.0000 - val_mae: 371069.1250 - val_r2_keras: -375.7728\n",
      "Epoch 2/100\n",
      "\u001b[1m38962/38962\u001b[0m \u001b[32m━━━━━━━━━━━━━━━━━━━━\u001b[0m\u001b[37m\u001b[0m \u001b[1m60s\u001b[0m 2ms/step - loss: 2187180638208.0000 - mae: 346542.5625 - r2_keras: -0.3493 - val_loss: 23071482183680.0000 - val_mae: 354684.7500 - val_r2_keras: -364.8175\n",
      "Epoch 3/100\n",
      "\u001b[1m38962/38962\u001b[0m \u001b[32m━━━━━━━━━━━━━━━━━━━━\u001b[0m\u001b[37m\u001b[0m \u001b[1m59s\u001b[0m 2ms/step - loss: 3017093414912.0000 - mae: 328311.3125 - r2_keras: -0.1565 - val_loss: 4676202266624.0000 - val_mae: 315224.5312 - val_r2_keras: -0.0193\n",
      "Epoch 4/100\n",
      "\u001b[1m38962/38962\u001b[0m \u001b[32m━━━━━━━━━━━━━━━━━━━━\u001b[0m\u001b[37m\u001b[0m \u001b[1m66s\u001b[0m 2ms/step - loss: 7862760243200.0000 - mae: 316861.4375 - r2_keras: -0.0608 - val_loss: 4643088760832.0000 - val_mae: 311713.3438 - val_r2_keras: -0.0663\n",
      "Epoch 5/100\n",
      "\u001b[1m38962/38962\u001b[0m \u001b[32m━━━━━━━━━━━━━━━━━━━━\u001b[0m\u001b[37m\u001b[0m \u001b[1m63s\u001b[0m 2ms/step - loss: 4569082888192.0000 - mae: 319027.0312 - r2_keras: -0.0811 - val_loss: 4638022041600.0000 - val_mae: 311351.3438 - val_r2_keras: 0.0901\n",
      "Epoch 6/100\n",
      "\u001b[1m38962/38962\u001b[0m \u001b[32m━━━━━━━━━━━━━━━━━━━━\u001b[0m\u001b[37m\u001b[0m \u001b[1m64s\u001b[0m 2ms/step - loss: 1422333181952.0000 - mae: 315337.8438 - r2_keras: -0.0330 - val_loss: 4631147053056.0000 - val_mae: 334347.2500 - val_r2_keras: -0.2967\n",
      "Epoch 7/100\n",
      "\u001b[1m38962/38962\u001b[0m \u001b[32m━━━━━━━━━━━━━━━━━━━━\u001b[0m\u001b[37m\u001b[0m \u001b[1m63s\u001b[0m 2ms/step - loss: 5991642955776.0000 - mae: 316730.8125 - r2_keras: -0.0782 - val_loss: 4581438783488.0000 - val_mae: 328733.8750 - val_r2_keras: -0.0193\n",
      "Epoch 8/100\n",
      "\u001b[1m38962/38962\u001b[0m \u001b[32m━━━━━━━━━━━━━━━━━━━━\u001b[0m\u001b[37m\u001b[0m \u001b[1m59s\u001b[0m 2ms/step - loss: 4677671845888.0000 - mae: 311731.5938 - r2_keras: -0.0171 - val_loss: 4575081791488.0000 - val_mae: 294951.1562 - val_r2_keras: 0.1450\n",
      "Epoch 9/100\n",
      "\u001b[1m38962/38962\u001b[0m \u001b[32m━━━━━━━━━━━━━━━━━━━━\u001b[0m\u001b[37m\u001b[0m \u001b[1m1860s\u001b[0m 48ms/step - loss: 3392189497344.0000 - mae: 309416.9062 - r2_keras: -0.0105 - val_loss: 4558366965760.0000 - val_mae: 310079.3125 - val_r2_keras: -0.1262\n",
      "Epoch 10/100\n",
      "\u001b[1m38962/38962\u001b[0m \u001b[32m━━━━━━━━━━━━━━━━━━━━\u001b[0m\u001b[37m\u001b[0m \u001b[1m708s\u001b[0m 18ms/step - loss: 10446625046528.0000 - mae: 311039.6250 - r2_keras: 0.0016 - val_loss: 4582925139968.0000 - val_mae: 302505.2500 - val_r2_keras: 0.1178\n",
      "Epoch 11/100\n",
      "\u001b[1m38962/38962\u001b[0m \u001b[32m━━━━━━━━━━━━━━━━━━━━\u001b[0m\u001b[37m\u001b[0m \u001b[1m53s\u001b[0m 1ms/step - loss: 5664467845120.0000 - mae: 309218.7188 - r2_keras: -0.0091 - val_loss: 4588754173952.0000 - val_mae: 317492.9688 - val_r2_keras: -0.0791\n",
      "Epoch 12/100\n",
      "\u001b[1m38962/38962\u001b[0m \u001b[32m━━━━━━━━━━━━━━━━━━━━\u001b[0m\u001b[37m\u001b[0m \u001b[1m53s\u001b[0m 1ms/step - loss: 3891504873472.0000 - mae: 308665.9062 - r2_keras: 0.0112 - val_loss: 4547609624576.0000 - val_mae: 307219.6562 - val_r2_keras: -0.0135\n",
      "Epoch 13/100\n",
      "\u001b[1m38962/38962\u001b[0m \u001b[32m━━━━━━━━━━━━━━━━━━━━\u001b[0m\u001b[37m\u001b[0m \u001b[1m53s\u001b[0m 1ms/step - loss: 2489013501952.0000 - mae: 308732.7500 - r2_keras: -0.0251 - val_loss: 4558732394496.0000 - val_mae: 305552.9062 - val_r2_keras: 0.0762\n",
      "Epoch 14/100\n",
      "\u001b[1m38962/38962\u001b[0m \u001b[32m━━━━━━━━━━━━━━━━━━━━\u001b[0m\u001b[37m\u001b[0m \u001b[1m53s\u001b[0m 1ms/step - loss: 3866010845184.0000 - mae: 311723.3125 - r2_keras: -0.0327 - val_loss: 4543932268544.0000 - val_mae: 297485.6250 - val_r2_keras: 0.1259\n",
      "Epoch 15/100\n",
      "\u001b[1m38962/38962\u001b[0m \u001b[32m━━━━━━━━━━━━━━━━━━━━\u001b[0m\u001b[37m\u001b[0m \u001b[1m53s\u001b[0m 1ms/step - loss: 1595705524224.0000 - mae: 307699.5938 - r2_keras: -0.0071 - val_loss: 4569784385536.0000 - val_mae: 301294.0625 - val_r2_keras: 0.1742\n",
      "Epoch 16/100\n",
      "\u001b[1m38962/38962\u001b[0m \u001b[32m━━━━━━━━━━━━━━━━━━━━\u001b[0m\u001b[37m\u001b[0m \u001b[1m53s\u001b[0m 1ms/step - loss: 8065111818240.0000 - mae: 311198.5312 - r2_keras: -0.0197 - val_loss: 4592679518208.0000 - val_mae: 351584.4688 - val_r2_keras: -0.1758\n",
      "Epoch 17/100\n",
      "\u001b[1m38962/38962\u001b[0m \u001b[32m━━━━━━━━━━━━━━━━━━━━\u001b[0m\u001b[37m\u001b[0m \u001b[1m3439s\u001b[0m 88ms/step - loss: 2105210961920.0000 - mae: 309257.1250 - r2_keras: -0.0243 - val_loss: 4547300294656.0000 - val_mae: 315535.3750 - val_r2_keras: 0.0453\n",
      "Epoch 18/100\n",
      "\u001b[1m38962/38962\u001b[0m \u001b[32m━━━━━━━━━━━━━━━━━━━━\u001b[0m\u001b[37m\u001b[0m \u001b[1m53s\u001b[0m 1ms/step - loss: 5935654764544.0000 - mae: 313295.0312 - r2_keras: -0.0749 - val_loss: 4565955510272.0000 - val_mae: 311702.6250 - val_r2_keras: 0.1534\n",
      "Epoch 19/100\n",
      "\u001b[1m38962/38962\u001b[0m \u001b[32m━━━━━━━━━━━━━━━━━━━━\u001b[0m\u001b[37m\u001b[0m \u001b[1m53s\u001b[0m 1ms/step - loss: 7105136295936.0000 - mae: 309789.5938 - r2_keras: -0.0102 - val_loss: 4562498355200.0000 - val_mae: 336938.9375 - val_r2_keras: -0.1776\n",
      "Epoch 20/100\n",
      "\u001b[1m38962/38962\u001b[0m \u001b[32m━━━━━━━━━━━━━━━━━━━━\u001b[0m\u001b[37m\u001b[0m \u001b[1m53s\u001b[0m 1ms/step - loss: 3987367264256.0000 - mae: 307782.5625 - r2_keras: -0.0021 - val_loss: 4525965443072.0000 - val_mae: 308437.7188 - val_r2_keras: -0.0573\n",
      "Epoch 21/100\n",
      "\u001b[1m38962/38962\u001b[0m \u001b[32m━━━━━━━━━━━━━━━━━━━━\u001b[0m\u001b[37m\u001b[0m \u001b[1m54s\u001b[0m 1ms/step - loss: 1703527186432.0000 - mae: 304287.5312 - r2_keras: 0.0111 - val_loss: 4582440697856.0000 - val_mae: 312970.6562 - val_r2_keras: 0.0723\n",
      "Epoch 22/100\n",
      "\u001b[1m38962/38962\u001b[0m \u001b[32m━━━━━━━━━━━━━━━━━━━━\u001b[0m\u001b[37m\u001b[0m \u001b[1m58s\u001b[0m 1ms/step - loss: 2340589142016.0000 - mae: 306773.9688 - r2_keras: 0.0149 - val_loss: 4536952422400.0000 - val_mae: 308189.7188 - val_r2_keras: 0.0720\n",
      "Epoch 23/100\n",
      "\u001b[1m38962/38962\u001b[0m \u001b[32m━━━━━━━━━━━━━━━━━━━━\u001b[0m\u001b[37m\u001b[0m \u001b[1m60s\u001b[0m 2ms/step - loss: 2817609957376.0000 - mae: 308912.5625 - r2_keras: -0.0157 - val_loss: 4552421015552.0000 - val_mae: 298372.7188 - val_r2_keras: 0.1446\n",
      "Epoch 24/100\n",
      "\u001b[1m38962/38962\u001b[0m \u001b[32m━━━━━━━━━━━━━━━━━━━━\u001b[0m\u001b[37m\u001b[0m \u001b[1m58s\u001b[0m 1ms/step - loss: 5985814970368.0000 - mae: 313098.3125 - r2_keras: -0.0203 - val_loss: 4556768935936.0000 - val_mae: 303334.1875 - val_r2_keras: 0.1463\n",
      "Epoch 25/100\n",
      "\u001b[1m38962/38962\u001b[0m \u001b[32m━━━━━━━━━━━━━━━━━━━━\u001b[0m\u001b[37m\u001b[0m \u001b[1m57s\u001b[0m 1ms/step - loss: 5031260061696.0000 - mae: 307197.3750 - r2_keras: -0.0179 - val_loss: 4584192868352.0000 - val_mae: 303604.0000 - val_r2_keras: 0.1709\n",
      "Epoch 26/100\n",
      "\u001b[1m38962/38962\u001b[0m \u001b[32m━━━━━━━━━━━━━━━━━━━━\u001b[0m\u001b[37m\u001b[0m \u001b[1m56s\u001b[0m 1ms/step - loss: 3216675962880.0000 - mae: 305210.6875 - r2_keras: 0.0196 - val_loss: 4594425397248.0000 - val_mae: 344929.0625 - val_r2_keras: -0.4799\n",
      "Epoch 27/100\n",
      "\u001b[1m38962/38962\u001b[0m \u001b[32m━━━━━━━━━━━━━━━━━━━━\u001b[0m\u001b[37m\u001b[0m \u001b[1m55s\u001b[0m 1ms/step - loss: 13345982775296.0000 - mae: 313508.9688 - r2_keras: -0.0156 - val_loss: 4537537003520.0000 - val_mae: 305996.8125 - val_r2_keras: 0.1343\n",
      "Epoch 28/100\n",
      "\u001b[1m38962/38962\u001b[0m \u001b[32m━━━━━━━━━━━━━━━━━━━━\u001b[0m\u001b[37m\u001b[0m \u001b[1m61s\u001b[0m 2ms/step - loss: 6821344968704.0000 - mae: 305389.6562 - r2_keras: 0.0309 - val_loss: 4535289905152.0000 - val_mae: 293698.5938 - val_r2_keras: 0.1586\n",
      "Epoch 29/100\n",
      "\u001b[1m38962/38962\u001b[0m \u001b[32m━━━━━━━━━━━━━━━━━━━━\u001b[0m\u001b[37m\u001b[0m \u001b[1m75s\u001b[0m 2ms/step - loss: 1539647995904.0000 - mae: 306660.3438 - r2_keras: -0.0076 - val_loss: 4522378264576.0000 - val_mae: 311788.0625 - val_r2_keras: -0.0097\n",
      "Epoch 30/100\n",
      "\u001b[1m38962/38962\u001b[0m \u001b[32m━━━━━━━━━━━━━━━━━━━━\u001b[0m\u001b[37m\u001b[0m \u001b[1m76s\u001b[0m 2ms/step - loss: 1979081949184.0000 - mae: 305536.7812 - r2_keras: 0.0078 - val_loss: 4560507633664.0000 - val_mae: 294023.6875 - val_r2_keras: 0.1539\n",
      "Epoch 31/100\n",
      "\u001b[1m38962/38962\u001b[0m \u001b[32m━━━━━━━━━━━━━━━━━━━━\u001b[0m\u001b[37m\u001b[0m \u001b[1m144s\u001b[0m 4ms/step - loss: 2507630444544.0000 - mae: 304131.1250 - r2_keras: 0.0421 - val_loss: 4514528624640.0000 - val_mae: 306882.3125 - val_r2_keras: 0.0847\n",
      "Epoch 32/100\n",
      "\u001b[1m38962/38962\u001b[0m \u001b[32m━━━━━━━━━━━━━━━━━━━━\u001b[0m\u001b[37m\u001b[0m \u001b[1m75s\u001b[0m 2ms/step - loss: 4139454562304.0000 - mae: 307094.3438 - r2_keras: -0.0128 - val_loss: 4529686315008.0000 - val_mae: 304383.7188 - val_r2_keras: 0.0657\n",
      "Epoch 33/100\n",
      "\u001b[1m38962/38962\u001b[0m \u001b[32m━━━━━━━━━━━━━━━━━━━━\u001b[0m\u001b[37m\u001b[0m \u001b[1m75s\u001b[0m 2ms/step - loss: 4207268331520.0000 - mae: 307099.9062 - r2_keras: 0.0081 - val_loss: 4547981344768.0000 - val_mae: 315611.5938 - val_r2_keras: 0.0699\n",
      "Epoch 34/100\n",
      "\u001b[1m38962/38962\u001b[0m \u001b[32m━━━━━━━━━━━━━━━━━━━━\u001b[0m\u001b[37m\u001b[0m \u001b[1m204s\u001b[0m 5ms/step - loss: 1218284486656.0000 - mae: 304532.4062 - r2_keras: 0.0206 - val_loss: 4529479745536.0000 - val_mae: 310603.9688 - val_r2_keras: 0.0324\n",
      "Epoch 35/100\n",
      "\u001b[1m38962/38962\u001b[0m \u001b[32m━━━━━━━━━━━━━━━━━━━━\u001b[0m\u001b[37m\u001b[0m \u001b[1m76s\u001b[0m 2ms/step - loss: 6614064562176.0000 - mae: 311761.5625 - r2_keras: 0.0038 - val_loss: 4539280261120.0000 - val_mae: 334664.0312 - val_r2_keras: -0.1272\n",
      "Epoch 36/100\n",
      "\u001b[1m38962/38962\u001b[0m \u001b[32m━━━━━━━━━━━━━━━━━━━━\u001b[0m\u001b[37m\u001b[0m \u001b[1m75s\u001b[0m 2ms/step - loss: 5047791386624.0000 - mae: 307255.3438 - r2_keras: 0.0012 - val_loss: 4541575069696.0000 - val_mae: 323745.2500 - val_r2_keras: -0.0361\n",
      "Epoch 37/100\n",
      "\u001b[1m38962/38962\u001b[0m \u001b[32m━━━━━━━━━━━━━━━━━━━━\u001b[0m\u001b[37m\u001b[0m \u001b[1m1288s\u001b[0m 33ms/step - loss: 1762032615424.0000 - mae: 308292.8750 - r2_keras: -0.0268 - val_loss: 4571098775552.0000 - val_mae: 301677.0938 - val_r2_keras: 0.1821\n",
      "Epoch 38/100\n",
      "\u001b[1m38962/38962\u001b[0m \u001b[32m━━━━━━━━━━━━━━━━━━━━\u001b[0m\u001b[37m\u001b[0m \u001b[1m76s\u001b[0m 2ms/step - loss: 2710008233984.0000 - mae: 305540.4688 - r2_keras: 0.0140 - val_loss: 4520597258240.0000 - val_mae: 314115.0938 - val_r2_keras: -0.1464\n",
      "Epoch 39/100\n",
      "\u001b[1m38962/38962\u001b[0m \u001b[32m━━━━━━━━━━━━━━━━━━━━\u001b[0m\u001b[37m\u001b[0m \u001b[1m169s\u001b[0m 4ms/step - loss: 5138541445120.0000 - mae: 308662.5000 - r2_keras: 0.0097 - val_loss: 4536237817856.0000 - val_mae: 312238.4062 - val_r2_keras: 0.0901\n",
      "Epoch 40/100\n",
      "\u001b[1m38962/38962\u001b[0m \u001b[32m━━━━━━━━━━━━━━━━━━━━\u001b[0m\u001b[37m\u001b[0m \u001b[1m79s\u001b[0m 2ms/step - loss: 17979253194752.0000 - mae: 312361.3125 - r2_keras: 0.0254 - val_loss: 4517003264000.0000 - val_mae: 310612.9062 - val_r2_keras: 0.0586\n",
      "Epoch 41/100\n",
      "\u001b[1m38962/38962\u001b[0m \u001b[32m━━━━━━━━━━━━━━━━━━━━\u001b[0m\u001b[37m\u001b[0m \u001b[1m78s\u001b[0m 2ms/step - loss: 2194284478464.0000 - mae: 306644.6875 - r2_keras: 0.0233 - val_loss: 4512068665344.0000 - val_mae: 306465.6875 - val_r2_keras: -0.0260\n",
      "Epoch 42/100\n",
      "\u001b[1m38962/38962\u001b[0m \u001b[32m━━━━━━━━━━━━━━━━━━━━\u001b[0m\u001b[37m\u001b[0m \u001b[1m76s\u001b[0m 2ms/step - loss: 4004036476928.0000 - mae: 306231.4688 - r2_keras: 0.0217 - val_loss: 4544164528128.0000 - val_mae: 322657.0312 - val_r2_keras: -0.0250\n",
      "Epoch 43/100\n",
      "\u001b[1m38962/38962\u001b[0m \u001b[32m━━━━━━━━━━━━━━━━━━━━\u001b[0m\u001b[37m\u001b[0m \u001b[1m77s\u001b[0m 2ms/step - loss: 6041321340928.0000 - mae: 308858.1875 - r2_keras: 0.0063 - val_loss: 4556556075008.0000 - val_mae: 319824.0312 - val_r2_keras: -0.2311\n",
      "Epoch 44/100\n",
      "\u001b[1m38962/38962\u001b[0m \u001b[32m━━━━━━━━━━━━━━━━━━━━\u001b[0m\u001b[37m\u001b[0m \u001b[1m76s\u001b[0m 2ms/step - loss: 7722071228416.0000 - mae: 309739.8750 - r2_keras: 0.0032 - val_loss: 4504237375488.0000 - val_mae: 310360.7812 - val_r2_keras: -0.0369\n",
      "Epoch 45/100\n",
      "\u001b[1m38962/38962\u001b[0m \u001b[32m━━━━━━━━━━━━━━━━━━━━\u001b[0m\u001b[37m\u001b[0m \u001b[1m75s\u001b[0m 2ms/step - loss: 8334105640960.0000 - mae: 309548.9688 - r2_keras: -0.0312 - val_loss: 4540460433408.0000 - val_mae: 318838.7188 - val_r2_keras: -0.1847\n",
      "Epoch 46/100\n",
      "\u001b[1m38962/38962\u001b[0m \u001b[32m━━━━━━━━━━━━━━━━━━━━\u001b[0m\u001b[37m\u001b[0m \u001b[1m76s\u001b[0m 2ms/step - loss: 3124686225408.0000 - mae: 303505.7812 - r2_keras: 0.0135 - val_loss: 4539245658112.0000 - val_mae: 307878.5938 - val_r2_keras: -0.0723\n",
      "Epoch 47/100\n",
      "\u001b[1m38962/38962\u001b[0m \u001b[32m━━━━━━━━━━━━━━━━━━━━\u001b[0m\u001b[37m\u001b[0m \u001b[1m295s\u001b[0m 8ms/step - loss: 1586549751808.0000 - mae: 305716.0625 - r2_keras: 0.0170 - val_loss: 4524785795072.0000 - val_mae: 310638.0625 - val_r2_keras: 8.3772e-04\n",
      "Epoch 48/100\n",
      "\u001b[1m38962/38962\u001b[0m \u001b[32m━━━━━━━━━━━━━━━━━━━━\u001b[0m\u001b[37m\u001b[0m \u001b[1m85s\u001b[0m 2ms/step - loss: 3348819345408.0000 - mae: 306558.8438 - r2_keras: -0.0050 - val_loss: 4502708551680.0000 - val_mae: 302565.3438 - val_r2_keras: -0.0132\n",
      "Epoch 49/100\n",
      "\u001b[1m38962/38962\u001b[0m \u001b[32m━━━━━━━━━━━━━━━━━━━━\u001b[0m\u001b[37m\u001b[0m \u001b[1m79s\u001b[0m 2ms/step - loss: 4106633871360.0000 - mae: 305866.5625 - r2_keras: 0.0238 - val_loss: 4527166586880.0000 - val_mae: 313980.4375 - val_r2_keras: -0.0060\n",
      "Epoch 50/100\n",
      "\u001b[1m38962/38962\u001b[0m \u001b[32m━━━━━━━━━━━━━━━━━━━━\u001b[0m\u001b[37m\u001b[0m \u001b[1m77s\u001b[0m 2ms/step - loss: 1346861531136.0000 - mae: 305469.6250 - r2_keras: 0.0383 - val_loss: 4545987477504.0000 - val_mae: 312210.3438 - val_r2_keras: 0.0997\n",
      "Epoch 51/100\n",
      "\u001b[1m38962/38962\u001b[0m \u001b[32m━━━━━━━━━━━━━━━━━━━━\u001b[0m\u001b[37m\u001b[0m \u001b[1m77s\u001b[0m 2ms/step - loss: 1418759634944.0000 - mae: 304108.8750 - r2_keras: 0.0397 - val_loss: 4548467359744.0000 - val_mae: 304156.4062 - val_r2_keras: 0.1290\n",
      "Epoch 52/100\n",
      "\u001b[1m38962/38962\u001b[0m \u001b[32m━━━━━━━━━━━━━━━━━━━━\u001b[0m\u001b[37m\u001b[0m \u001b[1m76s\u001b[0m 2ms/step - loss: 3332268359680.0000 - mae: 306692.3750 - r2_keras: 0.0200 - val_loss: 4525082542080.0000 - val_mae: 309826.6875 - val_r2_keras: -0.0755\n",
      "Epoch 53/100\n",
      "\u001b[1m38962/38962\u001b[0m \u001b[32m━━━━━━━━━━━━━━━━━━━━\u001b[0m\u001b[37m\u001b[0m \u001b[1m77s\u001b[0m 2ms/step - loss: 2285388955648.0000 - mae: 304698.9375 - r2_keras: 0.0242 - val_loss: 4524799426560.0000 - val_mae: 297813.0938 - val_r2_keras: 0.1289\n",
      "Epoch 54/100\n",
      "\u001b[1m38962/38962\u001b[0m \u001b[32m━━━━━━━━━━━━━━━━━━━━\u001b[0m\u001b[37m\u001b[0m \u001b[1m76s\u001b[0m 2ms/step - loss: 2357367144448.0000 - mae: 303599.8125 - r2_keras: 0.0368 - val_loss: 4533123547136.0000 - val_mae: 301103.4062 - val_r2_keras: 0.0971\n",
      "Epoch 55/100\n",
      "\u001b[1m38962/38962\u001b[0m \u001b[32m━━━━━━━━━━━━━━━━━━━━\u001b[0m\u001b[37m\u001b[0m \u001b[1m76s\u001b[0m 2ms/step - loss: 1246169530368.0000 - mae: 303782.8438 - r2_keras: -0.0317 - val_loss: 4533722808320.0000 - val_mae: 312368.1250 - val_r2_keras: 0.0747\n",
      "Epoch 56/100\n",
      "\u001b[1m38962/38962\u001b[0m \u001b[32m━━━━━━━━━━━━━━━━━━━━\u001b[0m\u001b[37m\u001b[0m \u001b[1m76s\u001b[0m 2ms/step - loss: 1146244300800.0000 - mae: 302582.4688 - r2_keras: 0.0329 - val_loss: 4560054648832.0000 - val_mae: 319128.3125 - val_r2_keras: 0.1044\n",
      "Epoch 57/100\n",
      "\u001b[1m38962/38962\u001b[0m \u001b[32m━━━━━━━━━━━━━━━━━━━━\u001b[0m\u001b[37m\u001b[0m \u001b[1m76s\u001b[0m 2ms/step - loss: 3038768791552.0000 - mae: 305612.0000 - r2_keras: 0.0644 - val_loss: 4529740840960.0000 - val_mae: 316721.1562 - val_r2_keras: -0.1810\n",
      "Epoch 58/100\n",
      "\u001b[1m38962/38962\u001b[0m \u001b[32m━━━━━━━━━━━━━━━━━━━━\u001b[0m\u001b[37m\u001b[0m \u001b[1m76s\u001b[0m 2ms/step - loss: 5927813513216.0000 - mae: 309476.6250 - r2_keras: 0.0028 - val_loss: 4547171844096.0000 - val_mae: 330233.3750 - val_r2_keras: -0.0734\n",
      "Epoch 59/100\n",
      "\u001b[1m38962/38962\u001b[0m \u001b[32m━━━━━━━━━━━━━━━━━━━━\u001b[0m\u001b[37m\u001b[0m \u001b[1m75s\u001b[0m 2ms/step - loss: 12400101163008.0000 - mae: 312374.5625 - r2_keras: 0.0080 - val_loss: 4514541731840.0000 - val_mae: 310546.5000 - val_r2_keras: -0.0074\n",
      "Epoch 60/100\n",
      "\u001b[1m38962/38962\u001b[0m \u001b[32m━━━━━━━━━━━━━━━━━━━━\u001b[0m\u001b[37m\u001b[0m \u001b[1m75s\u001b[0m 2ms/step - loss: 6920887861248.0000 - mae: 306965.5625 - r2_keras: 0.0099 - val_loss: 4514603597824.0000 - val_mae: 300610.2812 - val_r2_keras: 0.0757\n",
      "Epoch 61/100\n",
      "\u001b[1m38962/38962\u001b[0m \u001b[32m━━━━━━━━━━━━━━━━━━━━\u001b[0m\u001b[37m\u001b[0m \u001b[1m75s\u001b[0m 2ms/step - loss: 3615924682752.0000 - mae: 304844.8438 - r2_keras: 0.0299 - val_loss: 4517979488256.0000 - val_mae: 307862.3125 - val_r2_keras: -0.2240\n",
      "Epoch 62/100\n",
      "\u001b[1m38962/38962\u001b[0m \u001b[32m━━━━━━━━━━━━━━━━━━━━\u001b[0m\u001b[37m\u001b[0m \u001b[1m75s\u001b[0m 2ms/step - loss: 1241899859968.0000 - mae: 301154.4062 - r2_keras: 0.0405 - val_loss: 4505170608128.0000 - val_mae: 305151.1250 - val_r2_keras: 0.0495\n",
      "Epoch 63/100\n",
      "\u001b[1m38962/38962\u001b[0m \u001b[32m━━━━━━━━━━━━━━━━━━━━\u001b[0m\u001b[37m\u001b[0m \u001b[1m74s\u001b[0m 2ms/step - loss: 24660970307584.0000 - mae: 321023.0312 - r2_keras: -0.0067 - val_loss: 4506017333248.0000 - val_mae: 307062.1875 - val_r2_keras: -0.0761\n",
      "Epoch 64/100\n",
      "\u001b[1m38962/38962\u001b[0m \u001b[32m━━━━━━━━━━━━━━━━━━━━\u001b[0m\u001b[37m\u001b[0m \u001b[1m74s\u001b[0m 2ms/step - loss: 4566528557056.0000 - mae: 301995.7188 - r2_keras: 0.0415 - val_loss: 4617487777792.0000 - val_mae: 300571.0938 - val_r2_keras: 0.2258\n",
      "Epoch 65/100\n",
      "\u001b[1m38962/38962\u001b[0m \u001b[32m━━━━━━━━━━━━━━━━━━━━\u001b[0m\u001b[37m\u001b[0m \u001b[1m76s\u001b[0m 2ms/step - loss: 4977036099584.0000 - mae: 307794.2500 - r2_keras: -0.0085 - val_loss: 4514750922752.0000 - val_mae: 313958.0312 - val_r2_keras: -0.0068\n",
      "Epoch 66/100\n",
      "\u001b[1m38962/38962\u001b[0m \u001b[32m━━━━━━━━━━━━━━━━━━━━\u001b[0m\u001b[37m\u001b[0m \u001b[1m74s\u001b[0m 2ms/step - loss: 2244577853440.0000 - mae: 301584.2188 - r2_keras: 0.0501 - val_loss: 4503147905024.0000 - val_mae: 303719.2188 - val_r2_keras: -0.0052\n",
      "Epoch 67/100\n",
      "\u001b[1m38962/38962\u001b[0m \u001b[32m━━━━━━━━━━━━━━━━━━━━\u001b[0m\u001b[37m\u001b[0m \u001b[1m75s\u001b[0m 2ms/step - loss: 1872736550912.0000 - mae: 302400.1562 - r2_keras: 0.0317 - val_loss: 4517109694464.0000 - val_mae: 316501.5000 - val_r2_keras: -0.0905\n",
      "Epoch 68/100\n",
      "\u001b[1m38962/38962\u001b[0m \u001b[32m━━━━━━━━━━━━━━━━━━━━\u001b[0m\u001b[37m\u001b[0m \u001b[1m76s\u001b[0m 2ms/step - loss: 2903908286464.0000 - mae: 301952.3750 - r2_keras: 0.0619 - val_loss: 4512470269952.0000 - val_mae: 303035.9688 - val_r2_keras: -0.0043\n",
      "Epoch 69/100\n",
      "\u001b[1m38962/38962\u001b[0m \u001b[32m━━━━━━━━━━━━━━━━━━━━\u001b[0m\u001b[37m\u001b[0m \u001b[1m79s\u001b[0m 2ms/step - loss: 2074210729984.0000 - mae: 303871.9062 - r2_keras: 0.0381 - val_loss: 4525156466688.0000 - val_mae: 307554.0312 - val_r2_keras: -0.0354\n",
      "Epoch 70/100\n",
      "\u001b[1m38962/38962\u001b[0m \u001b[32m━━━━━━━━━━━━━━━━━━━━\u001b[0m\u001b[37m\u001b[0m \u001b[1m78s\u001b[0m 2ms/step - loss: 2544886349824.0000 - mae: 300913.3750 - r2_keras: 0.0527 - val_loss: 4526404272128.0000 - val_mae: 308333.5625 - val_r2_keras: 0.0880\n",
      "Epoch 71/100\n",
      "\u001b[1m38962/38962\u001b[0m \u001b[32m━━━━━━━━━━━━━━━━━━━━\u001b[0m\u001b[37m\u001b[0m \u001b[1m80s\u001b[0m 2ms/step - loss: 5342805622784.0000 - mae: 305490.8125 - r2_keras: 0.0320 - val_loss: 4576852836352.0000 - val_mae: 315530.1875 - val_r2_keras: 0.1023\n",
      "Epoch 72/100\n",
      "\u001b[1m38962/38962\u001b[0m \u001b[32m━━━━━━━━━━━━━━━━━━━━\u001b[0m\u001b[37m\u001b[0m \u001b[1m78s\u001b[0m 2ms/step - loss: 3594277617664.0000 - mae: 304111.0000 - r2_keras: 0.0289 - val_loss: 4510254104576.0000 - val_mae: 298150.2812 - val_r2_keras: 0.1081\n",
      "Epoch 73/100\n",
      "\u001b[1m38962/38962\u001b[0m \u001b[32m━━━━━━━━━━━━━━━━━━━━\u001b[0m\u001b[37m\u001b[0m \u001b[1m80s\u001b[0m 2ms/step - loss: 6101264760832.0000 - mae: 305013.5625 - r2_keras: 0.0257 - val_loss: 4504684068864.0000 - val_mae: 310883.4375 - val_r2_keras: -0.1266\n",
      "Epoch 74/100\n",
      "\u001b[1m38962/38962\u001b[0m \u001b[32m━━━━━━━━━━━━━━━━━━━━\u001b[0m\u001b[37m\u001b[0m \u001b[1m78s\u001b[0m 2ms/step - loss: 2011843788800.0000 - mae: 303595.5625 - r2_keras: 0.0172 - val_loss: 4493647806464.0000 - val_mae: 310993.3125 - val_r2_keras: 0.0381\n",
      "Epoch 75/100\n",
      "\u001b[1m38962/38962\u001b[0m \u001b[32m━━━━━━━━━━━━━━━━━━━━\u001b[0m\u001b[37m\u001b[0m \u001b[1m77s\u001b[0m 2ms/step - loss: 2012908617728.0000 - mae: 308712.7500 - r2_keras: 0.0324 - val_loss: 4486586171392.0000 - val_mae: 321919.1250 - val_r2_keras: -0.0663\n",
      "Epoch 76/100\n",
      "\u001b[1m38962/38962\u001b[0m \u001b[32m━━━━━━━━━━━━━━━━━━━━\u001b[0m\u001b[37m\u001b[0m \u001b[1m78s\u001b[0m 2ms/step - loss: 2242200207360.0000 - mae: 301870.4688 - r2_keras: 0.0606 - val_loss: 4564511621120.0000 - val_mae: 327995.5000 - val_r2_keras: -0.3301\n",
      "Epoch 77/100\n",
      "\u001b[1m38962/38962\u001b[0m \u001b[32m━━━━━━━━━━━━━━━━━━━━\u001b[0m\u001b[37m\u001b[0m \u001b[1m86s\u001b[0m 2ms/step - loss: 6286235664384.0000 - mae: 307062.5312 - r2_keras: 0.0277 - val_loss: 4504145625088.0000 - val_mae: 297858.0625 - val_r2_keras: 0.1687\n",
      "Epoch 78/100\n",
      "\u001b[1m38962/38962\u001b[0m \u001b[32m━━━━━━━━━━━━━━━━━━━━\u001b[0m\u001b[37m\u001b[0m \u001b[1m82s\u001b[0m 2ms/step - loss: 1194397925376.0000 - mae: 301715.3438 - r2_keras: 0.0414 - val_loss: 4511475695616.0000 - val_mae: 309145.1875 - val_r2_keras: 0.0373\n",
      "Epoch 79/100\n",
      "\u001b[1m38962/38962\u001b[0m \u001b[32m━━━━━━━━━━━━━━━━━━━━\u001b[0m\u001b[37m\u001b[0m \u001b[1m80s\u001b[0m 2ms/step - loss: 1867627364352.0000 - mae: 300867.0000 - r2_keras: 0.0668 - val_loss: 4502346268672.0000 - val_mae: 303304.8750 - val_r2_keras: -0.0136\n",
      "Epoch 80/100\n",
      "\u001b[1m38962/38962\u001b[0m \u001b[32m━━━━━━━━━━━━━━━━━━━━\u001b[0m\u001b[37m\u001b[0m \u001b[1m81s\u001b[0m 2ms/step - loss: 1853950656512.0000 - mae: 300836.1250 - r2_keras: 0.0109 - val_loss: 4522147053568.0000 - val_mae: 299736.3438 - val_r2_keras: 0.1131\n",
      "Epoch 81/100\n",
      "\u001b[1m38962/38962\u001b[0m \u001b[32m━━━━━━━━━━━━━━━━━━━━\u001b[0m\u001b[37m\u001b[0m \u001b[1m89s\u001b[0m 2ms/step - loss: 2519237394432.0000 - mae: 301902.8438 - r2_keras: 0.0498 - val_loss: 4527040233472.0000 - val_mae: 305995.1250 - val_r2_keras: 0.0213\n",
      "Epoch 82/100\n",
      "\u001b[1m38962/38962\u001b[0m \u001b[32m━━━━━━━━━━━━━━━━━━━━\u001b[0m\u001b[37m\u001b[0m \u001b[1m55s\u001b[0m 1ms/step - loss: 2349442793472.0000 - mae: 303478.5000 - r2_keras: 0.0387 - val_loss: 4515396845568.0000 - val_mae: 297975.8750 - val_r2_keras: 0.1630\n",
      "Epoch 83/100\n",
      "\u001b[1m38962/38962\u001b[0m \u001b[32m━━━━━━━━━━━━━━━━━━━━\u001b[0m\u001b[37m\u001b[0m \u001b[1m55s\u001b[0m 1ms/step - loss: 6829874610176.0000 - mae: 305927.0625 - r2_keras: 0.0141 - val_loss: 4533964505088.0000 - val_mae: 287429.7188 - val_r2_keras: 0.2010\n",
      "Epoch 84/100\n",
      "\u001b[1m38962/38962\u001b[0m \u001b[32m━━━━━━━━━━━━━━━━━━━━\u001b[0m\u001b[37m\u001b[0m \u001b[1m55s\u001b[0m 1ms/step - loss: 3531964940288.0000 - mae: 301353.6250 - r2_keras: 0.0360 - val_loss: 4502661890048.0000 - val_mae: 310383.1562 - val_r2_keras: 0.0224\n",
      "Epoch 85/100\n",
      "\u001b[1m38962/38962\u001b[0m \u001b[32m━━━━━━━━━━━━━━━━━━━━\u001b[0m\u001b[37m\u001b[0m \u001b[1m55s\u001b[0m 1ms/step - loss: 4029198368768.0000 - mae: 302970.2188 - r2_keras: 0.0689 - val_loss: 4501619605504.0000 - val_mae: 299025.9375 - val_r2_keras: 0.0893\n",
      "Epoch 86/100\n",
      "\u001b[1m38962/38962\u001b[0m \u001b[32m━━━━━━━━━━━━━━━━━━━━\u001b[0m\u001b[37m\u001b[0m \u001b[1m56s\u001b[0m 1ms/step - loss: 2218049667072.0000 - mae: 299761.4375 - r2_keras: 0.0554 - val_loss: 4535320313856.0000 - val_mae: 301065.9688 - val_r2_keras: 0.1005\n",
      "Epoch 87/100\n",
      "\u001b[1m38962/38962\u001b[0m \u001b[32m━━━━━━━━━━━━━━━━━━━━\u001b[0m\u001b[37m\u001b[0m \u001b[1m57s\u001b[0m 1ms/step - loss: 3122705203200.0000 - mae: 303539.1250 - r2_keras: 0.0356 - val_loss: 4494662828032.0000 - val_mae: 322763.5000 - val_r2_keras: 0.0412\n",
      "Epoch 88/100\n",
      "\u001b[1m38962/38962\u001b[0m \u001b[32m━━━━━━━━━━━━━━━━━━━━\u001b[0m\u001b[37m\u001b[0m \u001b[1m58s\u001b[0m 1ms/step - loss: 1899495555072.0000 - mae: 300522.9375 - r2_keras: 0.0687 - val_loss: 4495284109312.0000 - val_mae: 313789.2500 - val_r2_keras: -0.0744\n",
      "Epoch 89/100\n",
      "\u001b[1m38962/38962\u001b[0m \u001b[32m━━━━━━━━━━━━━━━━━━━━\u001b[0m\u001b[37m\u001b[0m \u001b[1m58s\u001b[0m 1ms/step - loss: 3586713976832.0000 - mae: 300617.0625 - r2_keras: 0.0548 - val_loss: 4519476854784.0000 - val_mae: 323695.6875 - val_r2_keras: -0.1632\n",
      "Epoch 90/100\n",
      "\u001b[1m38962/38962\u001b[0m \u001b[32m━━━━━━━━━━━━━━━━━━━━\u001b[0m\u001b[37m\u001b[0m \u001b[1m58s\u001b[0m 1ms/step - loss: 6044823060480.0000 - mae: 304197.5625 - r2_keras: 0.0279 - val_loss: 4502100377600.0000 - val_mae: 307009.6875 - val_r2_keras: 0.1080\n",
      "Epoch 91/100\n",
      "\u001b[1m38962/38962\u001b[0m \u001b[32m━━━━━━━━━━━━━━━━━━━━\u001b[0m\u001b[37m\u001b[0m \u001b[1m58s\u001b[0m 1ms/step - loss: 1424713973760.0000 - mae: 299395.3750 - r2_keras: 0.0757 - val_loss: 4485927665664.0000 - val_mae: 304109.5000 - val_r2_keras: 0.0468\n",
      "Epoch 92/100\n",
      "\u001b[1m38962/38962\u001b[0m \u001b[32m━━━━━━━━━━━━━━━━━━━━\u001b[0m\u001b[37m\u001b[0m \u001b[1m58s\u001b[0m 1ms/step - loss: 2649773309952.0000 - mae: 299687.4688 - r2_keras: 0.0747 - val_loss: 4515135225856.0000 - val_mae: 321860.2500 - val_r2_keras: -0.1998\n",
      "Epoch 93/100\n",
      "\u001b[1m38962/38962\u001b[0m \u001b[32m━━━━━━━━━━━━━━━━━━━━\u001b[0m\u001b[37m\u001b[0m \u001b[1m58s\u001b[0m 1ms/step - loss: 1481280192512.0000 - mae: 298564.3438 - r2_keras: 0.0632 - val_loss: 4507645771776.0000 - val_mae: 314133.2188 - val_r2_keras: -0.0958\n",
      "Epoch 94/100\n",
      "\u001b[1m38962/38962\u001b[0m \u001b[32m━━━━━━━━━━━━━━━━━━━━\u001b[0m\u001b[37m\u001b[0m \u001b[1m58s\u001b[0m 1ms/step - loss: 2828989366272.0000 - mae: 299636.7500 - r2_keras: 0.0509 - val_loss: 4495591866368.0000 - val_mae: 327656.7812 - val_r2_keras: -0.2403\n",
      "Epoch 95/100\n",
      "\u001b[1m38962/38962\u001b[0m \u001b[32m━━━━━━━━━━━━━━━━━━━━\u001b[0m\u001b[37m\u001b[0m \u001b[1m58s\u001b[0m 1ms/step - loss: 1409942421504.0000 - mae: 303210.7500 - r2_keras: 0.0204 - val_loss: 4487459110912.0000 - val_mae: 311576.9062 - val_r2_keras: -0.0154\n",
      "Epoch 96/100\n",
      "\u001b[1m38962/38962\u001b[0m \u001b[32m━━━━━━━━━━━━━━━━━━━━\u001b[0m\u001b[37m\u001b[0m \u001b[1m59s\u001b[0m 2ms/step - loss: 1700370317312.0000 - mae: 300143.9375 - r2_keras: 0.0433 - val_loss: 4497970561024.0000 - val_mae: 305334.1875 - val_r2_keras: 0.0502\n",
      "Epoch 97/100\n",
      "\u001b[1m38962/38962\u001b[0m \u001b[32m━━━━━━━━━━━━━━━━━━━━\u001b[0m\u001b[37m\u001b[0m \u001b[1m60s\u001b[0m 2ms/step - loss: 2941763190784.0000 - mae: 301223.7812 - r2_keras: 0.0666 - val_loss: 4492958892032.0000 - val_mae: 309463.8438 - val_r2_keras: -0.0603\n",
      "Epoch 98/100\n",
      "\u001b[1m38962/38962\u001b[0m \u001b[32m━━━━━━━━━━━━━━━━━━━━\u001b[0m\u001b[37m\u001b[0m \u001b[1m58s\u001b[0m 1ms/step - loss: 5738065821696.0000 - mae: 301819.8750 - r2_keras: 0.0592 - val_loss: 4491952783360.0000 - val_mae: 305750.1875 - val_r2_keras: 0.0606\n",
      "Epoch 99/100\n",
      "\u001b[1m38962/38962\u001b[0m \u001b[32m━━━━━━━━━━━━━━━━━━━━\u001b[0m\u001b[37m\u001b[0m \u001b[1m58s\u001b[0m 1ms/step - loss: 1161965207552.0000 - mae: 301276.8750 - r2_keras: 0.0478 - val_loss: 4489506455552.0000 - val_mae: 307928.6562 - val_r2_keras: 0.0859\n",
      "Epoch 100/100\n",
      "\u001b[1m38962/38962\u001b[0m \u001b[32m━━━━━━━━━━━━━━━━━━━━\u001b[0m\u001b[37m\u001b[0m \u001b[1m58s\u001b[0m 1ms/step - loss: 7254324019200.0000 - mae: 304192.6875 - r2_keras: 0.0582 - val_loss: 4486727204864.0000 - val_mae: 300331.5312 - val_r2_keras: 0.1487\n"
     ]
    },
    {
     "data": {
      "text/plain": [
       "<keras.src.callbacks.history.History at 0x178415dbc80>"
      ]
     },
     "execution_count": 36,
     "metadata": {},
     "output_type": "execute_result"
    }
   ],
   "source": [
    "model.fit(X_train,y_train,batch_size=32,        \n",
    "    epochs=100,           \n",
    "    validation_split=0.2, \n",
    "    verbose=1,shuffle=True  )"
   ]
  },
  {
   "cell_type": "markdown",
   "id": "93b40791-9c93-4dba-8e1d-16e5aae2cd9e",
   "metadata": {},
   "source": [
    "#### EVALUATING"
   ]
  },
  {
   "cell_type": "code",
   "execution_count": 37,
   "id": "943e2d47-e2d7-4fc3-af76-df08de2cca2a",
   "metadata": {},
   "outputs": [
    {
     "data": {
      "text/plain": [
       "64.74702425142156"
      ]
     },
     "execution_count": 37,
     "metadata": {},
     "output_type": "execute_result"
    }
   ],
   "source": [
    "339401/df[\"price\"].mean()*100"
   ]
  },
  {
   "cell_type": "code",
   "execution_count": 38,
   "id": "00f10dcc-7b66-4448-a20d-0e64654190d9",
   "metadata": {},
   "outputs": [
    {
     "data": {
      "text/plain": [
       "54.226420922986975"
      ]
     },
     "execution_count": 38,
     "metadata": {},
     "output_type": "execute_result"
    }
   ],
   "source": [
    "284252.46875/df[\"price\"].mean()*100"
   ]
  },
  {
   "cell_type": "code",
   "execution_count": 39,
   "id": "97eb9186-756d-42ef-a842-c4754907f146",
   "metadata": {},
   "outputs": [
    {
     "name": "stdout",
     "output_type": "stream",
     "text": [
      "\u001b[1m20873/20873\u001b[0m \u001b[32m━━━━━━━━━━━━━━━━━━━━\u001b[0m\u001b[37m\u001b[0m \u001b[1m18s\u001b[0m 854us/step - loss: 1085924442112.0000 - mae: 295279.2500 - r2_keras: 0.1475\n"
     ]
    },
    {
     "data": {
      "text/plain": [
       "[2202979532800.0, 297103.40625, 0.12908028066158295]"
      ]
     },
     "execution_count": 39,
     "metadata": {},
     "output_type": "execute_result"
    }
   ],
   "source": [
    "model.evaluate(X_test,y_test)"
   ]
  },
  {
   "cell_type": "code",
   "execution_count": 40,
   "id": "ed6bd6ad-11f3-4ec6-9c64-206645f222d9",
   "metadata": {},
   "outputs": [
    {
     "name": "stdout",
     "output_type": "stream",
     "text": [
      "\u001b[1m20873/20873\u001b[0m \u001b[32m━━━━━━━━━━━━━━━━━━━━\u001b[0m\u001b[37m\u001b[0m \u001b[1m13s\u001b[0m 609us/step\n"
     ]
    }
   ],
   "source": [
    "preidiction=model.predict(X_test)"
   ]
  },
  {
   "cell_type": "code",
   "execution_count": null,
   "id": "327b751b-0f66-44c3-a45a-eb6f85cdedd3",
   "metadata": {},
   "outputs": [],
   "source": []
  },
  {
   "cell_type": "markdown",
   "id": "a2f8a9f4-df3d-4a40-bf8a-ef8121d4d8a8",
   "metadata": {},
   "source": [
    "#### saving"
   ]
  },
  {
   "cell_type": "code",
   "execution_count": 41,
   "id": "319701ac-f874-41d7-b2d1-162cceac69f3",
   "metadata": {},
   "outputs": [],
   "source": [
    "model.save(\"ann.keras\")\n",
    "#joblib.dump(model,\"model.joblib\")\n",
    "\n",
    "\n",
    "\n"
   ]
  },
  {
   "cell_type": "code",
   "execution_count": null,
   "id": "7f3c2978-e38d-4f05-a556-88544a98e97f",
   "metadata": {},
   "outputs": [],
   "source": []
  },
  {
   "cell_type": "code",
   "execution_count": 42,
   "id": "39b8d9ef-3832-4995-825c-a3e052cabb01",
   "metadata": {},
   "outputs": [],
   "source": [
    "state_categoric=categoric['state'].unique()\n",
    "city_categoric=categoric['city'].unique()"
   ]
  },
  {
   "cell_type": "code",
   "execution_count": 43,
   "id": "fc05292c-0b7e-405f-a429-2c1e27635f98",
   "metadata": {},
   "outputs": [
    {
     "data": {
      "text/plain": [
       "['city_names.joblib']"
      ]
     },
     "execution_count": 43,
     "metadata": {},
     "output_type": "execute_result"
    }
   ],
   "source": [
    "joblib.dump(state_categoric,\"state_names.joblib\")\n",
    "joblib.dump(city_categoric,\"city_names.joblib\")"
   ]
  },
  {
   "cell_type": "code",
   "execution_count": 44,
   "id": "6e36d509-bc29-4c64-b795-7655c2b9321c",
   "metadata": {},
   "outputs": [
    {
     "name": "stdout",
     "output_type": "stream",
     "text": [
      "\u001b[1m1/1\u001b[0m \u001b[32m━━━━━━━━━━━━━━━━━━━━\u001b[0m\u001b[37m\u001b[0m \u001b[1m0s\u001b[0m 73ms/step\n"
     ]
    },
    {
     "data": {
      "text/plain": [
       "array([[286799.88]], dtype=float32)"
      ]
     },
     "execution_count": 44,
     "metadata": {},
     "output_type": "execute_result"
    }
   ],
   "source": [
    "x=np.array([[1,2,3,4,5,6,7]])\n",
    "model.predict(x)"
   ]
  }
 ],
 "metadata": {
  "kernelspec": {
   "display_name": "Python [conda env:base] *",
   "language": "python",
   "name": "conda-base-py"
  },
  "language_info": {
   "codemirror_mode": {
    "name": "ipython",
    "version": 3
   },
   "file_extension": ".py",
   "mimetype": "text/x-python",
   "name": "python",
   "nbconvert_exporter": "python",
   "pygments_lexer": "ipython3",
   "version": "3.12.7"
  }
 },
 "nbformat": 4,
 "nbformat_minor": 5
}
